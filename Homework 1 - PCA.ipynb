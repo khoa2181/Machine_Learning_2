{
 "cells": [
  {
   "cell_type": "code",
   "execution_count": 167,
   "metadata": {
    "collapsed": true
   },
   "outputs": [],
   "source": [
    "import pandas as pd\n",
    "import numpy as np\n",
    "import matplotlib.pyplot as plt\n",
    "import seaborn as sns"
   ]
  },
  {
   "cell_type": "code",
   "execution_count": 2,
   "outputs": [],
   "source": [
    "path = 'C:/Users/khoat/OneDrive - National Economics University/Desktop/1. Study/3.2. Machine Learning 2/data/'"
   ],
   "metadata": {
    "collapsed": false,
    "pycharm": {
     "name": "#%%\n"
    }
   }
  },
  {
   "cell_type": "code",
   "execution_count": 33,
   "outputs": [],
   "source": [
    "iris_data = pd.read_csv(path + 'iris.csv', names=['sepal_length', 'sepal_width', 'petal_length', 'petal_width', 'type'])"
   ],
   "metadata": {
    "collapsed": false,
    "pycharm": {
     "name": "#%%\n"
    }
   }
  },
  {
   "cell_type": "code",
   "execution_count": 34,
   "outputs": [
    {
     "data": {
      "text/plain": "   sepal_length  sepal_width  petal_length  petal_width         type\n0           5.1          3.5           1.4          0.2  Iris-setosa\n1           4.9          3.0           1.4          0.2  Iris-setosa\n2           4.7          3.2           1.3          0.2  Iris-setosa\n3           4.6          3.1           1.5          0.2  Iris-setosa\n4           5.0          3.6           1.4          0.2  Iris-setosa",
      "text/html": "<div>\n<style scoped>\n    .dataframe tbody tr th:only-of-type {\n        vertical-align: middle;\n    }\n\n    .dataframe tbody tr th {\n        vertical-align: top;\n    }\n\n    .dataframe thead th {\n        text-align: right;\n    }\n</style>\n<table border=\"1\" class=\"dataframe\">\n  <thead>\n    <tr style=\"text-align: right;\">\n      <th></th>\n      <th>sepal_length</th>\n      <th>sepal_width</th>\n      <th>petal_length</th>\n      <th>petal_width</th>\n      <th>type</th>\n    </tr>\n  </thead>\n  <tbody>\n    <tr>\n      <th>0</th>\n      <td>5.1</td>\n      <td>3.5</td>\n      <td>1.4</td>\n      <td>0.2</td>\n      <td>Iris-setosa</td>\n    </tr>\n    <tr>\n      <th>1</th>\n      <td>4.9</td>\n      <td>3.0</td>\n      <td>1.4</td>\n      <td>0.2</td>\n      <td>Iris-setosa</td>\n    </tr>\n    <tr>\n      <th>2</th>\n      <td>4.7</td>\n      <td>3.2</td>\n      <td>1.3</td>\n      <td>0.2</td>\n      <td>Iris-setosa</td>\n    </tr>\n    <tr>\n      <th>3</th>\n      <td>4.6</td>\n      <td>3.1</td>\n      <td>1.5</td>\n      <td>0.2</td>\n      <td>Iris-setosa</td>\n    </tr>\n    <tr>\n      <th>4</th>\n      <td>5.0</td>\n      <td>3.6</td>\n      <td>1.4</td>\n      <td>0.2</td>\n      <td>Iris-setosa</td>\n    </tr>\n  </tbody>\n</table>\n</div>"
     },
     "execution_count": 34,
     "metadata": {},
     "output_type": "execute_result"
    }
   ],
   "source": [
    "iris_data.head()"
   ],
   "metadata": {
    "collapsed": false,
    "pycharm": {
     "name": "#%%\n"
    }
   }
  },
  {
   "cell_type": "code",
   "execution_count": 39,
   "outputs": [],
   "source": [
    "iris = iris_data.drop(['type'], axis=1)"
   ],
   "metadata": {
    "collapsed": false,
    "pycharm": {
     "name": "#%%\n"
    }
   }
  },
  {
   "cell_type": "code",
   "execution_count": 42,
   "outputs": [],
   "source": [
    "iris = iris - iris.mean()"
   ],
   "metadata": {
    "collapsed": false,
    "pycharm": {
     "name": "#%%\n"
    }
   }
  },
  {
   "cell_type": "code",
   "execution_count": 44,
   "outputs": [
    {
     "data": {
      "text/plain": "     sepal_length  sepal_width  petal_length  petal_width\n0       -0.743333        0.446     -2.358667    -0.998667\n1       -0.943333       -0.054     -2.358667    -0.998667\n2       -1.143333        0.146     -2.458667    -0.998667\n3       -1.243333        0.046     -2.258667    -0.998667\n4       -0.843333        0.546     -2.358667    -0.998667\n..            ...          ...           ...          ...\n145      0.856667       -0.054      1.441333     1.101333\n146      0.456667       -0.554      1.241333     0.701333\n147      0.656667       -0.054      1.441333     0.801333\n148      0.356667        0.346      1.641333     1.101333\n149      0.056667       -0.054      1.341333     0.601333\n\n[150 rows x 4 columns]",
      "text/html": "<div>\n<style scoped>\n    .dataframe tbody tr th:only-of-type {\n        vertical-align: middle;\n    }\n\n    .dataframe tbody tr th {\n        vertical-align: top;\n    }\n\n    .dataframe thead th {\n        text-align: right;\n    }\n</style>\n<table border=\"1\" class=\"dataframe\">\n  <thead>\n    <tr style=\"text-align: right;\">\n      <th></th>\n      <th>sepal_length</th>\n      <th>sepal_width</th>\n      <th>petal_length</th>\n      <th>petal_width</th>\n    </tr>\n  </thead>\n  <tbody>\n    <tr>\n      <th>0</th>\n      <td>-0.743333</td>\n      <td>0.446</td>\n      <td>-2.358667</td>\n      <td>-0.998667</td>\n    </tr>\n    <tr>\n      <th>1</th>\n      <td>-0.943333</td>\n      <td>-0.054</td>\n      <td>-2.358667</td>\n      <td>-0.998667</td>\n    </tr>\n    <tr>\n      <th>2</th>\n      <td>-1.143333</td>\n      <td>0.146</td>\n      <td>-2.458667</td>\n      <td>-0.998667</td>\n    </tr>\n    <tr>\n      <th>3</th>\n      <td>-1.243333</td>\n      <td>0.046</td>\n      <td>-2.258667</td>\n      <td>-0.998667</td>\n    </tr>\n    <tr>\n      <th>4</th>\n      <td>-0.843333</td>\n      <td>0.546</td>\n      <td>-2.358667</td>\n      <td>-0.998667</td>\n    </tr>\n    <tr>\n      <th>...</th>\n      <td>...</td>\n      <td>...</td>\n      <td>...</td>\n      <td>...</td>\n    </tr>\n    <tr>\n      <th>145</th>\n      <td>0.856667</td>\n      <td>-0.054</td>\n      <td>1.441333</td>\n      <td>1.101333</td>\n    </tr>\n    <tr>\n      <th>146</th>\n      <td>0.456667</td>\n      <td>-0.554</td>\n      <td>1.241333</td>\n      <td>0.701333</td>\n    </tr>\n    <tr>\n      <th>147</th>\n      <td>0.656667</td>\n      <td>-0.054</td>\n      <td>1.441333</td>\n      <td>0.801333</td>\n    </tr>\n    <tr>\n      <th>148</th>\n      <td>0.356667</td>\n      <td>0.346</td>\n      <td>1.641333</td>\n      <td>1.101333</td>\n    </tr>\n    <tr>\n      <th>149</th>\n      <td>0.056667</td>\n      <td>-0.054</td>\n      <td>1.341333</td>\n      <td>0.601333</td>\n    </tr>\n  </tbody>\n</table>\n<p>150 rows × 4 columns</p>\n</div>"
     },
     "execution_count": 44,
     "metadata": {},
     "output_type": "execute_result"
    }
   ],
   "source": [
    "iris"
   ],
   "metadata": {
    "collapsed": false,
    "pycharm": {
     "name": "#%%\n"
    }
   }
  },
  {
   "cell_type": "code",
   "execution_count": 82,
   "outputs": [
    {
     "data": {
      "text/plain": "              sepal_length  sepal_width  petal_length  petal_width\nsepal_length      0.685694    -0.039268      1.273682     0.516904\nsepal_width      -0.039268     0.188004     -0.321713    -0.117981\npetal_length      1.273682    -0.321713      3.113179     1.296387\npetal_width       0.516904    -0.117981      1.296387     0.582414",
      "text/html": "<div>\n<style scoped>\n    .dataframe tbody tr th:only-of-type {\n        vertical-align: middle;\n    }\n\n    .dataframe tbody tr th {\n        vertical-align: top;\n    }\n\n    .dataframe thead th {\n        text-align: right;\n    }\n</style>\n<table border=\"1\" class=\"dataframe\">\n  <thead>\n    <tr style=\"text-align: right;\">\n      <th></th>\n      <th>sepal_length</th>\n      <th>sepal_width</th>\n      <th>petal_length</th>\n      <th>petal_width</th>\n    </tr>\n  </thead>\n  <tbody>\n    <tr>\n      <th>sepal_length</th>\n      <td>0.685694</td>\n      <td>-0.039268</td>\n      <td>1.273682</td>\n      <td>0.516904</td>\n    </tr>\n    <tr>\n      <th>sepal_width</th>\n      <td>-0.039268</td>\n      <td>0.188004</td>\n      <td>-0.321713</td>\n      <td>-0.117981</td>\n    </tr>\n    <tr>\n      <th>petal_length</th>\n      <td>1.273682</td>\n      <td>-0.321713</td>\n      <td>3.113179</td>\n      <td>1.296387</td>\n    </tr>\n    <tr>\n      <th>petal_width</th>\n      <td>0.516904</td>\n      <td>-0.117981</td>\n      <td>1.296387</td>\n      <td>0.582414</td>\n    </tr>\n  </tbody>\n</table>\n</div>"
     },
     "execution_count": 82,
     "metadata": {},
     "output_type": "execute_result"
    }
   ],
   "source": [
    "iris.cov()"
   ],
   "metadata": {
    "collapsed": false,
    "pycharm": {
     "name": "#%%\n"
    }
   }
  },
  {
   "cell_type": "code",
   "execution_count": 86,
   "outputs": [],
   "source": [
    "from numpy import linalg as LA\n",
    "lamb, b = LA.eig(iris.cov())"
   ],
   "metadata": {
    "collapsed": false,
    "pycharm": {
     "name": "#%%\n"
    }
   }
  },
  {
   "cell_type": "code",
   "execution_count": 87,
   "outputs": [
    {
     "data": {
      "text/plain": "array([4.22484077, 0.24224357, 0.07852391, 0.02368303])"
     },
     "execution_count": 87,
     "metadata": {},
     "output_type": "execute_result"
    }
   ],
   "source": [
    "lamb"
   ],
   "metadata": {
    "collapsed": false,
    "pycharm": {
     "name": "#%%\n"
    }
   }
  },
  {
   "cell_type": "code",
   "execution_count": 88,
   "outputs": [
    {
     "data": {
      "text/plain": "array([[ 0.36158968, -0.65653988, -0.58099728,  0.31725455],\n       [-0.08226889, -0.72971237,  0.59641809, -0.32409435],\n       [ 0.85657211,  0.1757674 ,  0.07252408, -0.47971899],\n       [ 0.35884393,  0.07470647,  0.54906091,  0.75112056]])"
     },
     "execution_count": 88,
     "metadata": {},
     "output_type": "execute_result"
    }
   ],
   "source": [
    "b"
   ],
   "metadata": {
    "collapsed": false,
    "pycharm": {
     "name": "#%%\n"
    }
   }
  },
  {
   "cell_type": "code",
   "execution_count": 90,
   "outputs": [
    {
     "data": {
      "text/plain": "[<matplotlib.lines.Line2D at 0x1c9c9ab9b50>]"
     },
     "execution_count": 90,
     "metadata": {},
     "output_type": "execute_result"
    },
    {
     "data": {
      "text/plain": "<Figure size 432x288 with 1 Axes>",
      "image/png": "[encoded data removed]"
     },
     "metadata": {
      "needs_background": "light"
     },
     "output_type": "display_data"
    }
   ],
   "source": [
    "plt.plot(np.arange(1,5), lamb/np.sum(lamb))"
   ],
   "metadata": {
    "collapsed": false,
    "pycharm": {
     "name": "#%%\n"
    }
   }
  },
  {
   "cell_type": "code",
   "execution_count": 93,
   "outputs": [
    {
     "data": {
      "text/plain": "array([ 0.36158968, -0.08226889,  0.85657211,  0.35884393])"
     },
     "execution_count": 93,
     "metadata": {},
     "output_type": "execute_result"
    }
   ],
   "source": [
    "b[:,0]"
   ],
   "metadata": {
    "collapsed": false,
    "pycharm": {
     "name": "#%%\n"
    }
   }
  },
  {
   "cell_type": "code",
   "execution_count": 108,
   "outputs": [],
   "source": [
    "B = np.concatenate((b[:,0].reshape(4,1), b[:,1].reshape(4,1)), axis=1)"
   ],
   "metadata": {
    "collapsed": false,
    "pycharm": {
     "name": "#%%\n"
    }
   }
  },
  {
   "cell_type": "code",
   "execution_count": 109,
   "outputs": [
    {
     "data": {
      "text/plain": "array([[ 0.36158968, -0.65653988],\n       [-0.08226889, -0.72971237],\n       [ 0.85657211,  0.1757674 ],\n       [ 0.35884393,  0.07470647]])"
     },
     "execution_count": 109,
     "metadata": {},
     "output_type": "execute_result"
    }
   ],
   "source": [
    "B"
   ],
   "metadata": {
    "collapsed": false,
    "pycharm": {
     "name": "#%%\n"
    }
   }
  },
  {
   "cell_type": "code",
   "execution_count": 158,
   "outputs": [],
   "source": [
    "iris_2d = pd.DataFrame(iris.dot(B))\n",
    "iris_2d.rename(columns={0: 'col1', 1: 'col2'}, inplace=True)\n",
    "iris_2d['type'] = iris_data.type"
   ],
   "metadata": {
    "collapsed": false,
    "pycharm": {
     "name": "#%%\n"
    }
   }
  },
  {
   "cell_type": "code",
   "execution_count": 169,
   "outputs": [
    {
     "data": {
      "text/plain": "       col1      col2         type\n0 -2.684207 -0.326607  Iris-setosa\n1 -2.715391  0.169557  Iris-setosa\n2 -2.889820  0.137346  Iris-setosa\n3 -2.746437  0.311124  Iris-setosa\n4 -2.728593 -0.333925  Iris-setosa",
      "text/html": "<div>\n<style scoped>\n    .dataframe tbody tr th:only-of-type {\n        vertical-align: middle;\n    }\n\n    .dataframe tbody tr th {\n        vertical-align: top;\n    }\n\n    .dataframe thead th {\n        text-align: right;\n    }\n</style>\n<table border=\"1\" class=\"dataframe\">\n  <thead>\n    <tr style=\"text-align: right;\">\n      <th></th>\n      <th>col1</th>\n      <th>col2</th>\n      <th>type</th>\n    </tr>\n  </thead>\n  <tbody>\n    <tr>\n      <th>0</th>\n      <td>-2.684207</td>\n      <td>-0.326607</td>\n      <td>Iris-setosa</td>\n    </tr>\n    <tr>\n      <th>1</th>\n      <td>-2.715391</td>\n      <td>0.169557</td>\n      <td>Iris-setosa</td>\n    </tr>\n    <tr>\n      <th>2</th>\n      <td>-2.889820</td>\n      <td>0.137346</td>\n      <td>Iris-setosa</td>\n    </tr>\n    <tr>\n      <th>3</th>\n      <td>-2.746437</td>\n      <td>0.311124</td>\n      <td>Iris-setosa</td>\n    </tr>\n    <tr>\n      <th>4</th>\n      <td>-2.728593</td>\n      <td>-0.333925</td>\n      <td>Iris-setosa</td>\n    </tr>\n  </tbody>\n</table>\n</div>"
     },
     "execution_count": 169,
     "metadata": {},
     "output_type": "execute_result"
    }
   ],
   "source": [
    "iris_2d.head()"
   ],
   "metadata": {
    "collapsed": false,
    "pycharm": {
     "name": "#%%\n"
    }
   }
  },
  {
   "cell_type": "code",
   "execution_count": 168,
   "outputs": [
    {
     "data": {
      "text/plain": "<AxesSubplot:xlabel='col1', ylabel='col2'>"
     },
     "execution_count": 168,
     "metadata": {},
     "output_type": "execute_result"
    },
    {
     "data": {
      "text/plain": "<Figure size 432x288 with 1 Axes>",
      "image/png": "[encoded data removed]"
     },
     "metadata": {
      "needs_background": "light"
     },
     "output_type": "display_data"
    }
   ],
   "source": [
    "sns.scatterplot(data=iris_2d, x='col1', y='col2', hue='type')"
   ],
   "metadata": {
    "collapsed": false,
    "pycharm": {
     "name": "#%%\n"
    }
   }
  },
  {
   "cell_type": "code",
   "execution_count": null,
   "outputs": [],
   "source": [],
   "metadata": {
    "collapsed": false,
    "pycharm": {
     "name": "#%%\n"
    }
   }
  },
  {
   "cell_type": "code",
   "execution_count": 110,
   "outputs": [],
   "source": [
    "B1 = np.concatenate((b[:,0].reshape(4,1), b[:,1].reshape(4,1), b[:,2].reshape(4,1)), axis=1)"
   ],
   "metadata": {
    "collapsed": false,
    "pycharm": {
     "name": "#%%\n"
    }
   }
  },
  {
   "cell_type": "code",
   "execution_count": 111,
   "outputs": [
    {
     "data": {
      "text/plain": "array([[ 0.36158968, -0.65653988, -0.58099728],\n       [-0.08226889, -0.72971237,  0.59641809],\n       [ 0.85657211,  0.1757674 ,  0.07252408],\n       [ 0.35884393,  0.07470647,  0.54906091]])"
     },
     "execution_count": 111,
     "metadata": {},
     "output_type": "execute_result"
    }
   ],
   "source": [
    "B1"
   ],
   "metadata": {
    "collapsed": false,
    "pycharm": {
     "name": "#%%\n"
    }
   }
  },
  {
   "cell_type": "code",
   "execution_count": 170,
   "outputs": [],
   "source": [
    "iris_3d = pd.DataFrame(iris.dot(B1))\n",
    "iris_3d.rename(columns={0: 'col1', 1: 'col2', 2: 'col3'}, inplace=True)\n",
    "iris_3d['type'] = iris_data.type"
   ],
   "metadata": {
    "collapsed": false,
    "pycharm": {
     "name": "#%%\n"
    }
   }
  },
  {
   "cell_type": "code",
   "execution_count": 171,
   "outputs": [
    {
     "data": {
      "text/plain": "         col1      col2      col3            type\n0   -2.684207 -0.326607 -0.021512     Iris-setosa\n1   -2.715391  0.169557 -0.203521     Iris-setosa\n2   -2.889820  0.137346  0.024709     Iris-setosa\n3   -2.746437  0.311124  0.037672     Iris-setosa\n4   -2.728593 -0.333925  0.096230     Iris-setosa\n..        ...       ...       ...             ...\n145  1.944017 -0.187415  0.179303  Iris-virginica\n146  1.525664  0.375021 -0.120636  Iris-virginica\n147  1.764046 -0.078519  0.130784  Iris-virginica\n148  1.901629 -0.115877  0.722874  Iris-virginica\n149  1.389666  0.282887  0.362318  Iris-virginica\n\n[150 rows x 4 columns]",
      "text/html": "<div>\n<style scoped>\n    .dataframe tbody tr th:only-of-type {\n        vertical-align: middle;\n    }\n\n    .dataframe tbody tr th {\n        vertical-align: top;\n    }\n\n    .dataframe thead th {\n        text-align: right;\n    }\n</style>\n<table border=\"1\" class=\"dataframe\">\n  <thead>\n    <tr style=\"text-align: right;\">\n      <th></th>\n      <th>col1</th>\n      <th>col2</th>\n      <th>col3</th>\n      <th>type</th>\n    </tr>\n  </thead>\n  <tbody>\n    <tr>\n      <th>0</th>\n      <td>-2.684207</td>\n      <td>-0.326607</td>\n      <td>-0.021512</td>\n      <td>Iris-setosa</td>\n    </tr>\n    <tr>\n      <th>1</th>\n      <td>-2.715391</td>\n      <td>0.169557</td>\n      <td>-0.203521</td>\n      <td>Iris-setosa</td>\n    </tr>\n    <tr>\n      <th>2</th>\n      <td>-2.889820</td>\n      <td>0.137346</td>\n      <td>0.024709</td>\n      <td>Iris-setosa</td>\n    </tr>\n    <tr>\n      <th>3</th>\n      <td>-2.746437</td>\n      <td>0.311124</td>\n      <td>0.037672</td>\n      <td>Iris-setosa</td>\n    </tr>\n    <tr>\n      <th>4</th>\n      <td>-2.728593</td>\n      <td>-0.333925</td>\n      <td>0.096230</td>\n      <td>Iris-setosa</td>\n    </tr>\n    <tr>\n      <th>...</th>\n      <td>...</td>\n      <td>...</td>\n      <td>...</td>\n      <td>...</td>\n    </tr>\n    <tr>\n      <th>145</th>\n      <td>1.944017</td>\n      <td>-0.187415</td>\n      <td>0.179303</td>\n      <td>Iris-virginica</td>\n    </tr>\n    <tr>\n      <th>146</th>\n      <td>1.525664</td>\n      <td>0.375021</td>\n      <td>-0.120636</td>\n      <td>Iris-virginica</td>\n    </tr>\n    <tr>\n      <th>147</th>\n      <td>1.764046</td>\n      <td>-0.078519</td>\n      <td>0.130784</td>\n      <td>Iris-virginica</td>\n    </tr>\n    <tr>\n      <th>148</th>\n      <td>1.901629</td>\n      <td>-0.115877</td>\n      <td>0.722874</td>\n      <td>Iris-virginica</td>\n    </tr>\n    <tr>\n      <th>149</th>\n      <td>1.389666</td>\n      <td>0.282887</td>\n      <td>0.362318</td>\n      <td>Iris-virginica</td>\n    </tr>\n  </tbody>\n</table>\n<p>150 rows × 4 columns</p>\n</div>"
     },
     "execution_count": 171,
     "metadata": {},
     "output_type": "execute_result"
    }
   ],
   "source": [
    "iris_3d.head()"
   ],
   "metadata": {
    "collapsed": false,
    "pycharm": {
     "name": "#%%\n"
    }
   }
  },
  {
   "cell_type": "code",
   "execution_count": 173,
   "outputs": [
    {
     "data": {
      "application/vnd.plotly.v1+json": {
       "config": {
        "plotlyServerURL": "https://plot.ly"
       },
       "data": [
        {
         "hovertemplate": "type=Iris-setosa<br>col1=%{x}<br>col2=%{y}<br>col3=%{z}<extra></extra>",
         "legendgroup": "Iris-setosa",
         "marker": {
          "color": "#636efa",
          "symbol": "circle"
         },
         "mode": "markers",
         "name": "Iris-setosa",
         "scene": "scene",
         "showlegend": true,
         "type": "scatter3d",
         "x": [
          -2.684207125103951,
          -2.7153906156341336,
          -2.8898195396179194,
          -2.746437197308737,
          -2.7285929818313175,
          -2.2798973610096,
          -2.820890682180633,
          -2.6264819933238215,
          -2.887958565335637,
          -2.673844686719124,
          -2.506526789338906,
          -2.6131427182710585,
          -2.7874339759971005,
          -3.2252004462749837,
          -2.643543216941149,
          -2.383869323799378,
          -2.6225262031258114,
          -2.6483227324791296,
          -2.1990779614307656,
          -2.587346188917741,
          -2.310531701313136,
          -2.543234907303698,
          -3.2158576949001083,
          -2.303128537663885,
          -2.3561710866839007,
          -2.507917226837883,
          -2.4690559975451256,
          -2.562390946836753,
          -2.6398212683765845,
          -2.6328479080307607,
          -2.5884620513033942,
          -2.4100773371215984,
          -2.647636673396903,
          -2.597159477075921,
          -2.673844686719124,
          -2.8669998469325373,
          -2.6252284646804243,
          -2.673844686719124,
          -2.9818426648539114,
          -2.590323025585677,
          -2.7701389107463275,
          -2.852211081566395,
          -2.998296442832354,
          -2.4055141012847043,
          -2.2088329541767084,
          -2.7156651907474574,
          -2.5375733710135098,
          -2.8403212968270117,
          -2.542685757077051,
          -2.7039123148636532
         ],
         "y": [
          -0.3266073147643874,
          0.16955684755602626,
          0.1373456096050282,
          0.31112431575199245,
          -0.333924563568454,
          -0.7477827132251327,
          0.0821045110246818,
          -0.1704053489602893,
          0.5707980263315923,
          0.10669170375273893,
          -0.6519350136725713,
          -0.02152063196025711,
          0.2277401888711066,
          0.5032799094854263,
          -1.186194899413449,
          -1.3447543445598613,
          -0.8180896745965948,
          -0.3191366677508841,
          -0.8792440880917358,
          -0.520473638805967,
          -0.3978678215888916,
          -0.4400317546598146,
          -0.1416155716255827,
          -0.10552267842998181,
          0.031209589068339372,
          0.1390563399131743,
          -0.13788731459041714,
          -0.3746845627501056,
          -0.3192900659603215,
          0.1900758306336248,
          0.19739307943769135,
          -0.41808000824761604,
          -0.8199826325595057,
          -1.1000219280072676,
          0.10669170375273893,
          -0.07719309572358693,
          -0.6068000084215863,
          0.10669170375273893,
          0.48025004885607714,
          -0.23605933728887235,
          -0.2710594197651666,
          0.9328653674695442,
          0.334307574590778,
          -0.19591725769606017,
          -0.44269603042100175,
          0.2426814828981132,
          -0.5103675454766048,
          0.22057633827647735,
          -0.5862810253439877,
          -0.11501085217050525
         ],
         "z": [
          -0.021511837001962075,
          -0.20352142500549114,
          0.02470924099895694,
          0.037671975285301085,
          0.09622969977460985,
          0.1743256190164037,
          0.2642510851906963,
          -0.015801510264314755,
          0.02733540611450691,
          -0.1915332997356447,
          -0.06927499581393035,
          0.10765035324990507,
          -0.20032778809538937,
          0.06841362917233018,
          -0.14450570400963458,
          0.2837306639397782,
          0.14531598882161842,
          0.03339425407069835,
          -0.11452146479835207,
          0.21957208800082573,
          -0.23369560709796905,
          0.21483637027967584,
          0.2996189815108715,
          0.045680041274487077,
          0.129407575895994,
          -0.2471163378908599,
          0.10126307942970231,
          -0.07235915743602778,
          -0.13925337377853458,
          0.04646646364504586,
          -0.07127507313152598,
          -0.13838824005004097,
          0.23058560425417413,
          0.16358191262366378,
          -0.1915332997356447,
          -0.15684235049802425,
          -0.26116315648170535,
          -0.1915332997356447,
          0.07972480735962095,
          -0.07390123824707623,
          0.0842415745047635,
          -0.3409614911071529,
          0.19900842494724186,
          0.27071707036883347,
          0.3034878092682713,
          -0.09051560595006863,
          0.17191840447686163,
          0.0900613765304153,
          -0.011175267831168373,
          -0.0826957266068215
         ]
        },
        {
         "hovertemplate": "type=Iris-versicolor<br>col1=%{x}<br>col2=%{y}<br>col3=%{z}<extra></extra>",
         "legendgroup": "Iris-versicolor",
         "marker": {
          "color": "#EF553B",
          "symbol": "circle"
         },
         "mode": "markers",
         "name": "Iris-versicolor",
         "scene": "scene",
         "showlegend": true,
         "type": "scatter3d",
         "x": [
          1.2847945878450682,
          0.9324107529829146,
          1.4640613227790722,
          0.18096720634769564,
          1.0871344872069977,
          0.6404367495231426,
          1.0952237099384754,
          -0.7514671406482298,
          1.043297780706278,
          -0.010190070727856201,
          -0.5110861958950935,
          0.5110980606834745,
          0.26233575615317706,
          0.984044545169428,
          -0.1748640019656992,
          0.9275729420326967,
          0.6595927890561977,
          0.23454058625983257,
          0.9423617073988388,
          0.04324640032870166,
          1.1162407237538128,
          0.3567865678304581,
          1.2964688502855308,
          0.9205026489090063,
          0.7140082136428301,
          0.899640863283773,
          1.3310414188547166,
          1.5573962720706993,
          0.812455548997999,
          -0.30733475566340734,
          -0.07034288894927462,
          -0.1918844921031487,
          0.13499495045137025,
          1.3787369827755798,
          0.5872748535799079,
          0.8072054966767135,
          1.2204289662446763,
          0.8128677903690666,
          0.24519516169034306,
          0.16451342836925278,
          0.4630309888714213,
          0.8901604456511533,
          0.2288790499696446,
          -0.7070812839208636,
          0.35553303918706053,
          0.33112694733271986,
          0.37523822894676284,
          0.6416902781665401,
          -0.9084633331234983,
          0.297807907406931
         ],
         "y": [
          -0.6854391861329201,
          -0.3191980898336485,
          -0.5041898329724531,
          0.8256039435761131,
          -0.07539038928876773,
          0.4173234829700263,
          -0.28389121093847974,
          1.0011075129743945,
          -0.22895690877700686,
          0.7205748667019021,
          1.2624919538621404,
          0.10228410504597056,
          0.547893298025336,
          0.12436042022227829,
          0.2518155710801708,
          -0.46823620504311725,
          0.3519762910603173,
          0.33192182936212056,
          0.5418222581500135,
          0.5814894466123588,
          0.08421401387837421,
          0.06682382794136604,
          0.3275615197949441,
          0.18239036332792133,
          -0.1503791531484373,
          -0.32961097958188407,
          -0.2446695206022896,
          -0.26739258481276484,
          0.1623315748786336,
          0.3650866127661603,
          0.7025379317307259,
          0.6774905443743571,
          0.3117096427033962,
          0.4212051382146287,
          0.4832842677174834,
          -0.19505396377111073,
          -0.40803533700101746,
          0.37067899831890916,
          0.26672803566184866,
          0.6796614693108138,
          0.6695265465361231,
          0.03381244274676312,
          0.4022576201789113,
          1.008424761778461,
          0.5032184874026626,
          0.21118014066262736,
          0.29162202480878024,
          -0.019071176491270672,
          0.7515687251694856,
          0.3470165215985642
         ],
         "z": [
          -0.40612955307696297,
          -0.017129909205125304,
          -0.338260727717959,
          -0.1770828563933659,
          -0.30654446481443226,
          0.041188769353644114,
          0.17002253374149986,
          0.01567219423815913,
          -0.414814566148704,
          0.28343724625412475,
          -0.2664899538224511,
          0.1323278904749733,
          -0.6919415783189655,
          -0.06215742761353895,
          0.09365863819194978,
          -0.3132294005685774,
          0.3283842970693477,
          -0.27028067083569385,
          -0.49734854117770577,
          -0.23296355648252348,
          0.4598442265727531,
          -0.22747218032088384,
          -0.3475132125842509,
          -0.23161141855267003,
          -0.32037233282926997,
          -0.31477148137962585,
          -0.5212449247379849,
          -0.16463849085222898,
          0.036343576344490286,
          -0.31533719693892065,
          -0.2417580448422688,
          -0.30391654346362545,
          -0.17497330378776582,
          0.01548049512170788,
          0.44458375303487063,
          0.38945871138620264,
          -0.23656608684982808,
          -0.612871050060674,
          0.18956248472924173,
          -0.057799238805745,
          -0.02405389088980972,
          -0.009768026368424873,
          -0.22736270503287995,
          -0.10206934253841271,
          0.017889465896507,
          0.08380907322251571,
          0.07907335550136566,
          -0.2041728768637465,
          -0.007736584506981836,
          0.012179139158858862
         ]
        },
        {
         "hovertemplate": "type=Iris-virginica<br>col1=%{x}<br>col2=%{y}<br>col3=%{z}<extra></extra>",
         "legendgroup": "Iris-virginica",
         "marker": {
          "color": "#00cc96",
          "symbol": "circle"
         },
         "mode": "markers",
         "name": "Iris-virginica",
         "scene": "scene",
         "showlegend": true,
         "type": "scatter3d",
         "x": [
          2.5317269804395552,
          1.4140722251737545,
          2.6164846082840407,
          1.970814945906479,
          2.3497579839509393,
          3.3968799206781344,
          0.5193832450849334,
          2.9320050969912983,
          2.31967279387405,
          2.918134233644248,
          1.6619349470194837,
          1.80234045266073,
          2.165378862953394,
          1.3445942175098216,
          1.5852672993086407,
          1.904743578213909,
          1.949248781864495,
          3.4887653796563827,
          3.794686861209967,
          1.2983298245678128,
          2.428167259020845,
          1.1980973722749597,
          3.4992654842989537,
          1.3876682501815527,
          2.275853649305691,
          2.614193830698331,
          1.2576251829251333,
          1.2906696477375985,
          2.12285398050831,
          2.387564402369025,
          2.8409609252853802,
          3.2323428982958715,
          2.1587383731331315,
          1.4431026043759716,
          1.779640106898567,
          3.0765216210206585,
          2.144986856709301,
          1.9048629251371287,
          1.1688534694704005,
          2.1076537311732655,
          2.3143033946295453,
          1.9224508848357496,
          1.4140722251737545,
          2.563322712340806,
          2.419391219804977,
          1.9440170488777342,
          1.5256636313138696,
          1.7640459355269797,
          1.9016290752882297,
          1.3896661333194138
         ],
         "y": [
          0.011842236640301401,
          0.5749250559123052,
          -0.3419352869872948,
          0.18112569470491433,
          0.041882549654842255,
          -0.5471680462301528,
          1.191351689050654,
          -0.35237700618085976,
          0.24554817060691012,
          -0.7803806293720315,
          -0.2420384010375221,
          0.2161546066265363,
          -0.2152802833730072,
          0.7764154251768254,
          0.5393070538471725,
          -0.11881899098269816,
          -0.040730259427767423,
          -1.1715445442635635,
          -0.2532655709725352,
          0.7610139365215076,
          -0.37678197125415236,
          0.605578961764595,
          -0.45677346696407495,
          0.20403098657015473,
          -0.3333865257566415,
          -0.558366950278822,
          0.17913699742322292,
          0.11642525182937294,
          0.2108548845494901,
          -0.46251925072626043,
          -0.3727425910490217,
          -1.370524035976333,
          0.21832553156299342,
          0.1438012890827265,
          0.5014647947060162,
          -0.6857644422460574,
          -0.13890660887731357,
          -0.04804750823183396,
          0.16450249981509038,
          -0.3714822491771058,
          -0.18260885079369843,
          -0.4092711761786959,
          0.5749250559123052,
          -0.2759745022398377,
          -0.3035039377026284,
          -0.18741522204601407,
          0.3750208481918227,
          -0.07851918642935733,
          -0.11587674824796473,
          0.2828867091722699
         ],
         "z": [
          0.7584586515284949,
          0.2963982243052123,
          -0.11214137055436707,
          0.10653914864984576,
          0.28411068086616686,
          -0.35187315762730137,
          0.5466855311249477,
          -0.4236912783368968,
          -0.34992218335905,
          0.42173893361376724,
          0.2428152634675928,
          -0.03769532849396548,
          0.03314818319913265,
          0.282868018224317,
          0.6305704884623242,
          0.48013807976572787,
          0.04272909392943647,
          0.12932008336177636,
          -0.5169707159938954,
          -0.34488704746870075,
          0.21864907004670464,
          0.5126407650398138,
          -0.5769101867216484,
          -0.06351132177864897,
          0.28467815266071783,
          -0.20842334661879297,
          0.04697780744922636,
          0.23161356056830557,
          0.1535158850912544,
          -0.45202396144912715,
          -0.5010315391382016,
          -0.11844877739515691,
          0.20842197616391483,
          -0.1540829711054273,
          -0.1758111860567033,
          -0.33642274120822435,
          0.7341847390548597,
          0.16047063070600842,
          0.2824608810023707,
          0.027437856461484667,
          0.32286040074238165,
          0.11549281596071626,
          0.2963982243052123,
          0.2912536131268593,
          0.5043025169513591,
          0.17930287068112571,
          -0.12063644074491328,
          0.13078405342866822,
          0.7228735608675683,
          0.3623178316312211
         ]
        }
       ],
       "layout": {
        "legend": {
         "title": {
          "text": "type"
         },
         "tracegroupgap": 0
        },
        "margin": {
         "t": 60
        },
        "scene": {
         "domain": {
          "x": [
           0.0,
           1.0
          ],
          "y": [
           0.0,
           1.0
          ]
         },
         "xaxis": {
          "title": {
           "text": "col1"
          }
         },
         "yaxis": {
          "title": {
           "text": "col2"
          }
         },
         "zaxis": {
          "title": {
           "text": "col3"
          }
         }
        },
        "template": {
         "data": {
          "bar": [
           {
            "error_x": {
             "color": "#2a3f5f"
            },
            "error_y": {
             "color": "#2a3f5f"
            },
            "marker": {
             "line": {
              "color": "#E5ECF6",
              "width": 0.5
             },
             "pattern": {
              "fillmode": "overlay",
              "size": 10,
              "solidity": 0.2
             }
            },
            "type": "bar"
           }
          ],
          "barpolar": [
           {
            "marker": {
             "line": {
              "color": "#E5ECF6",
              "width": 0.5
             },
             "pattern": {
              "fillmode": "overlay",
              "size": 10,
              "solidity": 0.2
             }
            },
            "type": "barpolar"
           }
          ],
          "carpet": [
           {
            "aaxis": {
             "endlinecolor": "#2a3f5f",
             "gridcolor": "white",
             "linecolor": "white",
             "minorgridcolor": "white",
             "startlinecolor": "#2a3f5f"
            },
            "baxis": {
             "endlinecolor": "#2a3f5f",
             "gridcolor": "white",
             "linecolor": "white",
             "minorgridcolor": "white",
             "startlinecolor": "#2a3f5f"
            },
            "type": "carpet"
           }
          ],
          "choropleth": [
           {
            "colorbar": {
             "outlinewidth": 0,
             "ticks": ""
            },
            "type": "choropleth"
           }
          ],
          "contour": [
           {
            "colorbar": {
             "outlinewidth": 0,
             "ticks": ""
            },
            "colorscale": [
             [
              0.0,
              "#0d0887"
             ],
             [
              0.1111111111111111,
              "#46039f"
             ],
             [
              0.2222222222222222,
              "#7201a8"
             ],
             [
              0.3333333333333333,
              "#9c179e"
             ],
             [
              0.4444444444444444,
              "#bd3786"
             ],
             [
              0.5555555555555556,
              "#d8576b"
             ],
             [
              0.6666666666666666,
              "#ed7953"
             ],
             [
              0.7777777777777778,
              "#fb9f3a"
             ],
             [
              0.8888888888888888,
              "#fdca26"
             ],
             [
              1.0,
              "#f0f921"
             ]
            ],
            "type": "contour"
           }
          ],
          "contourcarpet": [
           {
            "colorbar": {
             "outlinewidth": 0,
             "ticks": ""
            },
            "type": "contourcarpet"
           }
          ],
          "heatmap": [
           {
            "colorbar": {
             "outlinewidth": 0,
             "ticks": ""
            },
            "colorscale": [
             [
              0.0,
              "#0d0887"
             ],
             [
              0.1111111111111111,
              "#46039f"
             ],
             [
              0.2222222222222222,
              "#7201a8"
             ],
             [
              0.3333333333333333,
              "#9c179e"
             ],
             [
              0.4444444444444444,
              "#bd3786"
             ],
             [
              0.5555555555555556,
              "#d8576b"
             ],
             [
              0.6666666666666666,
              "#ed7953"
             ],
             [
              0.7777777777777778,
              "#fb9f3a"
             ],
             [
              0.8888888888888888,
              "#fdca26"
             ],
             [
              1.0,
              "#f0f921"
             ]
            ],
            "type": "heatmap"
           }
          ],
          "heatmapgl": [
           {
            "colorbar": {
             "outlinewidth": 0,
             "ticks": ""
            },
            "colorscale": [
             [
              0.0,
              "#0d0887"
             ],
             [
              0.1111111111111111,
              "#46039f"
             ],
             [
              0.2222222222222222,
              "#7201a8"
             ],
             [
              0.3333333333333333,
              "#9c179e"
             ],
             [
              0.4444444444444444,
              "#bd3786"
             ],
             [
              0.5555555555555556,
              "#d8576b"
             ],
             [
              0.6666666666666666,
              "#ed7953"
             ],
             [
              0.7777777777777778,
              "#fb9f3a"
             ],
             [
              0.8888888888888888,
              "#fdca26"
             ],
             [
              1.0,
              "#f0f921"
             ]
            ],
            "type": "heatmapgl"
           }
          ],
          "histogram": [
           {
            "marker": {
             "pattern": {
              "fillmode": "overlay",
              "size": 10,
              "solidity": 0.2
             }
            },
            "type": "histogram"
           }
          ],
          "histogram2d": [
           {
            "colorbar": {
             "outlinewidth": 0,
             "ticks": ""
            },
            "colorscale": [
             [
              0.0,
              "#0d0887"
             ],
             [
              0.1111111111111111,
              "#46039f"
             ],
             [
              0.2222222222222222,
              "#7201a8"
             ],
             [
              0.3333333333333333,
              "#9c179e"
             ],
             [
              0.4444444444444444,
              "#bd3786"
             ],
             [
              0.5555555555555556,
              "#d8576b"
             ],
             [
              0.6666666666666666,
              "#ed7953"
             ],
             [
              0.7777777777777778,
              "#fb9f3a"
             ],
             [
              0.8888888888888888,
              "#fdca26"
             ],
             [
              1.0,
              "#f0f921"
             ]
            ],
            "type": "histogram2d"
           }
          ],
          "histogram2dcontour": [
           {
            "colorbar": {
             "outlinewidth": 0,
             "ticks": ""
            },
            "colorscale": [
             [
              0.0,
              "#0d0887"
             ],
             [
              0.1111111111111111,
              "#46039f"
             ],
             [
              0.2222222222222222,
              "#7201a8"
             ],
             [
              0.3333333333333333,
              "#9c179e"
             ],
             [
              0.4444444444444444,
              "#bd3786"
             ],
             [
              0.5555555555555556,
              "#d8576b"
             ],
             [
              0.6666666666666666,
              "#ed7953"
             ],
             [
              0.7777777777777778,
              "#fb9f3a"
             ],
             [
              0.8888888888888888,
              "#fdca26"
             ],
             [
              1.0,
              "#f0f921"
             ]
            ],
            "type": "histogram2dcontour"
           }
          ],
          "mesh3d": [
           {
            "colorbar": {
             "outlinewidth": 0,
             "ticks": ""
            },
            "type": "mesh3d"
           }
          ],
          "parcoords": [
           {
            "line": {
             "colorbar": {
              "outlinewidth": 0,
              "ticks": ""
             }
            },
            "type": "parcoords"
           }
          ],
          "pie": [
           {
            "automargin": true,
            "type": "pie"
           }
          ],
          "scatter": [
           {
            "marker": {
             "colorbar": {
              "outlinewidth": 0,
              "ticks": ""
             }
            },
            "type": "scatter"
           }
          ],
          "scatter3d": [
           {
            "line": {
             "colorbar": {
              "outlinewidth": 0,
              "ticks": ""
             }
            },
            "marker": {
             "colorbar": {
              "outlinewidth": 0,
              "ticks": ""
             }
            },
            "type": "scatter3d"
           }
          ],
          "scattercarpet": [
           {
            "marker": {
             "colorbar": {
              "outlinewidth": 0,
              "ticks": ""
             }
            },
            "type": "scattercarpet"
           }
          ],
          "scattergeo": [
           {
            "marker": {
             "colorbar": {
              "outlinewidth": 0,
              "ticks": ""
             }
            },
            "type": "scattergeo"
           }
          ],
          "scattergl": [
           {
            "marker": {
             "colorbar": {
              "outlinewidth": 0,
              "ticks": ""
             }
            },
            "type": "scattergl"
           }
          ],
          "scattermapbox": [
           {
            "marker": {
             "colorbar": {
              "outlinewidth": 0,
              "ticks": ""
             }
            },
            "type": "scattermapbox"
           }
          ],
          "scatterpolar": [
           {
            "marker": {
             "colorbar": {
              "outlinewidth": 0,
              "ticks": ""
             }
            },
            "type": "scatterpolar"
           }
          ],
          "scatterpolargl": [
           {
            "marker": {
             "colorbar": {
              "outlinewidth": 0,
              "ticks": ""
             }
            },
            "type": "scatterpolargl"
           }
          ],
          "scatterternary": [
           {
            "marker": {
             "colorbar": {
              "outlinewidth": 0,
              "ticks": ""
             }
            },
            "type": "scatterternary"
           }
          ],
          "surface": [
           {
            "colorbar": {
             "outlinewidth": 0,
             "ticks": ""
            },
            "colorscale": [
             [
              0.0,
              "#0d0887"
             ],
             [
              0.1111111111111111,
              "#46039f"
             ],
             [
              0.2222222222222222,
              "#7201a8"
             ],
             [
              0.3333333333333333,
              "#9c179e"
             ],
             [
              0.4444444444444444,
              "#bd3786"
             ],
             [
              0.5555555555555556,
              "#d8576b"
             ],
             [
              0.6666666666666666,
              "#ed7953"
             ],
             [
              0.7777777777777778,
              "#fb9f3a"
             ],
             [
              0.8888888888888888,
              "#fdca26"
             ],
             [
              1.0,
              "#f0f921"
             ]
            ],
            "type": "surface"
           }
          ],
          "table": [
           {
            "cells": {
             "fill": {
              "color": "#EBF0F8"
             },
             "line": {
              "color": "white"
             }
            },
            "header": {
             "fill": {
              "color": "#C8D4E3"
             },
             "line": {
              "color": "white"
             }
            },
            "type": "table"
           }
          ]
         },
         "layout": {
          "annotationdefaults": {
           "arrowcolor": "#2a3f5f",
           "arrowhead": 0,
           "arrowwidth": 1
          },
          "autotypenumbers": "strict",
          "coloraxis": {
           "colorbar": {
            "outlinewidth": 0,
            "ticks": ""
           }
          },
          "colorscale": {
           "diverging": [
            [
             0,
             "#8e0152"
            ],
            [
             0.1,
             "#c51b7d"
            ],
            [
             0.2,
             "#de77ae"
            ],
            [
             0.3,
             "#f1b6da"
            ],
            [
             0.4,
             "#fde0ef"
            ],
            [
             0.5,
             "#f7f7f7"
            ],
            [
             0.6,
             "#e6f5d0"
            ],
            [
             0.7,
             "#b8e186"
            ],
            [
             0.8,
             "#7fbc41"
            ],
            [
             0.9,
             "#4d9221"
            ],
            [
             1,
             "#276419"
            ]
           ],
           "sequential": [
            [
             0.0,
             "#0d0887"
            ],
            [
             0.1111111111111111,
             "#46039f"
            ],
            [
             0.2222222222222222,
             "#7201a8"
            ],
            [
             0.3333333333333333,
             "#9c179e"
            ],
            [
             0.4444444444444444,
             "#bd3786"
            ],
            [
             0.5555555555555556,
             "#d8576b"
            ],
            [
             0.6666666666666666,
             "#ed7953"
            ],
            [
             0.7777777777777778,
             "#fb9f3a"
            ],
            [
             0.8888888888888888,
             "#fdca26"
            ],
            [
             1.0,
             "#f0f921"
            ]
           ],
           "sequentialminus": [
            [
             0.0,
             "#0d0887"
            ],
            [
             0.1111111111111111,
             "#46039f"
            ],
            [
             0.2222222222222222,
             "#7201a8"
            ],
            [
             0.3333333333333333,
             "#9c179e"
            ],
            [
             0.4444444444444444,
             "#bd3786"
            ],
            [
             0.5555555555555556,
             "#d8576b"
            ],
            [
             0.6666666666666666,
             "#ed7953"
            ],
            [
             0.7777777777777778,
             "#fb9f3a"
            ],
            [
             0.8888888888888888,
             "#fdca26"
            ],
            [
             1.0,
             "#f0f921"
            ]
           ]
          },
          "colorway": [
           "#636efa",
           "#EF553B",
           "#00cc96",
           "#ab63fa",
           "#FFA15A",
           "#19d3f3",
           "#FF6692",
           "#B6E880",
           "#FF97FF",
           "#FECB52"
          ],
          "font": {
           "color": "#2a3f5f"
          },
          "geo": {
           "bgcolor": "white",
           "lakecolor": "white",
           "landcolor": "#E5ECF6",
           "showlakes": true,
           "showland": true,
           "subunitcolor": "white"
          },
          "hoverlabel": {
           "align": "left"
          },
          "hovermode": "closest",
          "mapbox": {
           "style": "light"
          },
          "paper_bgcolor": "white",
          "plot_bgcolor": "#E5ECF6",
          "polar": {
           "angularaxis": {
            "gridcolor": "white",
            "linecolor": "white",
            "ticks": ""
           },
           "bgcolor": "#E5ECF6",
           "radialaxis": {
            "gridcolor": "white",
            "linecolor": "white",
            "ticks": ""
           }
          },
          "scene": {
           "xaxis": {
            "backgroundcolor": "#E5ECF6",
            "gridcolor": "white",
            "gridwidth": 2,
            "linecolor": "white",
            "showbackground": true,
            "ticks": "",
            "zerolinecolor": "white"
           },
           "yaxis": {
            "backgroundcolor": "#E5ECF6",
            "gridcolor": "white",
            "gridwidth": 2,
            "linecolor": "white",
            "showbackground": true,
            "ticks": "",
            "zerolinecolor": "white"
           },
           "zaxis": {
            "backgroundcolor": "#E5ECF6",
            "gridcolor": "white",
            "gridwidth": 2,
            "linecolor": "white",
            "showbackground": true,
            "ticks": "",
            "zerolinecolor": "white"
           }
          },
          "shapedefaults": {
           "line": {
            "color": "#2a3f5f"
           }
          },
          "ternary": {
           "aaxis": {
            "gridcolor": "white",
            "linecolor": "white",
            "ticks": ""
           },
           "baxis": {
            "gridcolor": "white",
            "linecolor": "white",
            "ticks": ""
           },
           "bgcolor": "#E5ECF6",
           "caxis": {
            "gridcolor": "white",
            "linecolor": "white",
            "ticks": ""
           }
          },
          "title": {
           "x": 0.05
          },
          "xaxis": {
           "automargin": true,
           "gridcolor": "white",
           "linecolor": "white",
           "ticks": "",
           "title": {
            "standoff": 15
           },
           "zerolinecolor": "white",
           "zerolinewidth": 2
          },
          "yaxis": {
           "automargin": true,
           "gridcolor": "white",
           "linecolor": "white",
           "ticks": "",
           "title": {
            "standoff": 15
           },
           "zerolinecolor": "white",
           "zerolinewidth": 2
          }
         }
        }
       }
      },
      "text/html": "<div>                            <div id=\"a461a202-beb5-4989-b7a7-bf0c11a59725\" class=\"plotly-graph-div\" style=\"height:525px; width:100%;\"></div>            <script type=\"text/javascript\">                require([\"plotly\"], function(Plotly) {                    window.PLOTLYENV=window.PLOTLYENV || {};                                    if (document.getElementById(\"a461a202-beb5-4989-b7a7-bf0c11a59725\")) {                    Plotly.newPlot(                        \"a461a202-beb5-4989-b7a7-bf0c11a59725\",                        [{\"hovertemplate\":\"type=Iris-setosa<br>col1=%{x}<br>col2=%{y}<br>col3=%{z}<extra></extra>\",\"legendgroup\":\"Iris-setosa\",\"marker\":{\"color\":\"#636efa\",\"symbol\":\"circle\"},\"mode\":\"markers\",\"name\":\"Iris-setosa\",\"scene\":\"scene\",\"showlegend\":true,\"type\":\"scatter3d\",\"x\":[-2.684207125103951,-2.7153906156341336,-2.8898195396179194,-2.746437197308737,-2.7285929818313175,-2.2798973610096,-2.820890682180633,-2.6264819933238215,-2.887958565335637,-2.673844686719124,-2.506526789338906,-2.6131427182710585,-2.7874339759971005,-3.2252004462749837,-2.643543216941149,-2.383869323799378,-2.6225262031258114,-2.6483227324791296,-2.1990779614307656,-2.587346188917741,-2.310531701313136,-2.543234907303698,-3.2158576949001083,-2.303128537663885,-2.3561710866839007,-2.507917226837883,-2.4690559975451256,-2.562390946836753,-2.6398212683765845,-2.6328479080307607,-2.5884620513033942,-2.4100773371215984,-2.647636673396903,-2.597159477075921,-2.673844686719124,-2.8669998469325373,-2.6252284646804243,-2.673844686719124,-2.9818426648539114,-2.590323025585677,-2.7701389107463275,-2.852211081566395,-2.998296442832354,-2.4055141012847043,-2.2088329541767084,-2.7156651907474574,-2.5375733710135098,-2.8403212968270117,-2.542685757077051,-2.7039123148636532],\"y\":[-0.3266073147643874,0.16955684755602626,0.1373456096050282,0.31112431575199245,-0.333924563568454,-0.7477827132251327,0.0821045110246818,-0.1704053489602893,0.5707980263315923,0.10669170375273893,-0.6519350136725713,-0.02152063196025711,0.2277401888711066,0.5032799094854263,-1.186194899413449,-1.3447543445598613,-0.8180896745965948,-0.3191366677508841,-0.8792440880917358,-0.520473638805967,-0.3978678215888916,-0.4400317546598146,-0.1416155716255827,-0.10552267842998181,0.031209589068339372,0.1390563399131743,-0.13788731459041714,-0.3746845627501056,-0.3192900659603215,0.1900758306336248,0.19739307943769135,-0.41808000824761604,-0.8199826325595057,-1.1000219280072676,0.10669170375273893,-0.07719309572358693,-0.6068000084215863,0.10669170375273893,0.48025004885607714,-0.23605933728887235,-0.2710594197651666,0.9328653674695442,0.334307574590778,-0.19591725769606017,-0.44269603042100175,0.2426814828981132,-0.5103675454766048,0.22057633827647735,-0.5862810253439877,-0.11501085217050525],\"z\":[-0.021511837001962075,-0.20352142500549114,0.02470924099895694,0.037671975285301085,0.09622969977460985,0.1743256190164037,0.2642510851906963,-0.015801510264314755,0.02733540611450691,-0.1915332997356447,-0.06927499581393035,0.10765035324990507,-0.20032778809538937,0.06841362917233018,-0.14450570400963458,0.2837306639397782,0.14531598882161842,0.03339425407069835,-0.11452146479835207,0.21957208800082573,-0.23369560709796905,0.21483637027967584,0.2996189815108715,0.045680041274487077,0.129407575895994,-0.2471163378908599,0.10126307942970231,-0.07235915743602778,-0.13925337377853458,0.04646646364504586,-0.07127507313152598,-0.13838824005004097,0.23058560425417413,0.16358191262366378,-0.1915332997356447,-0.15684235049802425,-0.26116315648170535,-0.1915332997356447,0.07972480735962095,-0.07390123824707623,0.0842415745047635,-0.3409614911071529,0.19900842494724186,0.27071707036883347,0.3034878092682713,-0.09051560595006863,0.17191840447686163,0.0900613765304153,-0.011175267831168373,-0.0826957266068215]},{\"hovertemplate\":\"type=Iris-versicolor<br>col1=%{x}<br>col2=%{y}<br>col3=%{z}<extra></extra>\",\"legendgroup\":\"Iris-versicolor\",\"marker\":{\"color\":\"#EF553B\",\"symbol\":\"circle\"},\"mode\":\"markers\",\"name\":\"Iris-versicolor\",\"scene\":\"scene\",\"showlegend\":true,\"type\":\"scatter3d\",\"x\":[1.2847945878450682,0.9324107529829146,1.4640613227790722,0.18096720634769564,1.0871344872069977,0.6404367495231426,1.0952237099384754,-0.7514671406482298,1.043297780706278,-0.010190070727856201,-0.5110861958950935,0.5110980606834745,0.26233575615317706,0.984044545169428,-0.1748640019656992,0.9275729420326967,0.6595927890561977,0.23454058625983257,0.9423617073988388,0.04324640032870166,1.1162407237538128,0.3567865678304581,1.2964688502855308,0.9205026489090063,0.7140082136428301,0.899640863283773,1.3310414188547166,1.5573962720706993,0.812455548997999,-0.30733475566340734,-0.07034288894927462,-0.1918844921031487,0.13499495045137025,1.3787369827755798,0.5872748535799079,0.8072054966767135,1.2204289662446763,0.8128677903690666,0.24519516169034306,0.16451342836925278,0.4630309888714213,0.8901604456511533,0.2288790499696446,-0.7070812839208636,0.35553303918706053,0.33112694733271986,0.37523822894676284,0.6416902781665401,-0.9084633331234983,0.297807907406931],\"y\":[-0.6854391861329201,-0.3191980898336485,-0.5041898329724531,0.8256039435761131,-0.07539038928876773,0.4173234829700263,-0.28389121093847974,1.0011075129743945,-0.22895690877700686,0.7205748667019021,1.2624919538621404,0.10228410504597056,0.547893298025336,0.12436042022227829,0.2518155710801708,-0.46823620504311725,0.3519762910603173,0.33192182936212056,0.5418222581500135,0.5814894466123588,0.08421401387837421,0.06682382794136604,0.3275615197949441,0.18239036332792133,-0.1503791531484373,-0.32961097958188407,-0.2446695206022896,-0.26739258481276484,0.1623315748786336,0.3650866127661603,0.7025379317307259,0.6774905443743571,0.3117096427033962,0.4212051382146287,0.4832842677174834,-0.19505396377111073,-0.40803533700101746,0.37067899831890916,0.26672803566184866,0.6796614693108138,0.6695265465361231,0.03381244274676312,0.4022576201789113,1.008424761778461,0.5032184874026626,0.21118014066262736,0.29162202480878024,-0.019071176491270672,0.7515687251694856,0.3470165215985642],\"z\":[-0.40612955307696297,-0.017129909205125304,-0.338260727717959,-0.1770828563933659,-0.30654446481443226,0.041188769353644114,0.17002253374149986,0.01567219423815913,-0.414814566148704,0.28343724625412475,-0.2664899538224511,0.1323278904749733,-0.6919415783189655,-0.06215742761353895,0.09365863819194978,-0.3132294005685774,0.3283842970693477,-0.27028067083569385,-0.49734854117770577,-0.23296355648252348,0.4598442265727531,-0.22747218032088384,-0.3475132125842509,-0.23161141855267003,-0.32037233282926997,-0.31477148137962585,-0.5212449247379849,-0.16463849085222898,0.036343576344490286,-0.31533719693892065,-0.2417580448422688,-0.30391654346362545,-0.17497330378776582,0.01548049512170788,0.44458375303487063,0.38945871138620264,-0.23656608684982808,-0.612871050060674,0.18956248472924173,-0.057799238805745,-0.02405389088980972,-0.009768026368424873,-0.22736270503287995,-0.10206934253841271,0.017889465896507,0.08380907322251571,0.07907335550136566,-0.2041728768637465,-0.007736584506981836,0.012179139158858862]},{\"hovertemplate\":\"type=Iris-virginica<br>col1=%{x}<br>col2=%{y}<br>col3=%{z}<extra></extra>\",\"legendgroup\":\"Iris-virginica\",\"marker\":{\"color\":\"#00cc96\",\"symbol\":\"circle\"},\"mode\":\"markers\",\"name\":\"Iris-virginica\",\"scene\":\"scene\",\"showlegend\":true,\"type\":\"scatter3d\",\"x\":[2.5317269804395552,1.4140722251737545,2.6164846082840407,1.970814945906479,2.3497579839509393,3.3968799206781344,0.5193832450849334,2.9320050969912983,2.31967279387405,2.918134233644248,1.6619349470194837,1.80234045266073,2.165378862953394,1.3445942175098216,1.5852672993086407,1.904743578213909,1.949248781864495,3.4887653796563827,3.794686861209967,1.2983298245678128,2.428167259020845,1.1980973722749597,3.4992654842989537,1.3876682501815527,2.275853649305691,2.614193830698331,1.2576251829251333,1.2906696477375985,2.12285398050831,2.387564402369025,2.8409609252853802,3.2323428982958715,2.1587383731331315,1.4431026043759716,1.779640106898567,3.0765216210206585,2.144986856709301,1.9048629251371287,1.1688534694704005,2.1076537311732655,2.3143033946295453,1.9224508848357496,1.4140722251737545,2.563322712340806,2.419391219804977,1.9440170488777342,1.5256636313138696,1.7640459355269797,1.9016290752882297,1.3896661333194138],\"y\":[0.011842236640301401,0.5749250559123052,-0.3419352869872948,0.18112569470491433,0.041882549654842255,-0.5471680462301528,1.191351689050654,-0.35237700618085976,0.24554817060691012,-0.7803806293720315,-0.2420384010375221,0.2161546066265363,-0.2152802833730072,0.7764154251768254,0.5393070538471725,-0.11881899098269816,-0.040730259427767423,-1.1715445442635635,-0.2532655709725352,0.7610139365215076,-0.37678197125415236,0.605578961764595,-0.45677346696407495,0.20403098657015473,-0.3333865257566415,-0.558366950278822,0.17913699742322292,0.11642525182937294,0.2108548845494901,-0.46251925072626043,-0.3727425910490217,-1.370524035976333,0.21832553156299342,0.1438012890827265,0.5014647947060162,-0.6857644422460574,-0.13890660887731357,-0.04804750823183396,0.16450249981509038,-0.3714822491771058,-0.18260885079369843,-0.4092711761786959,0.5749250559123052,-0.2759745022398377,-0.3035039377026284,-0.18741522204601407,0.3750208481918227,-0.07851918642935733,-0.11587674824796473,0.2828867091722699],\"z\":[0.7584586515284949,0.2963982243052123,-0.11214137055436707,0.10653914864984576,0.28411068086616686,-0.35187315762730137,0.5466855311249477,-0.4236912783368968,-0.34992218335905,0.42173893361376724,0.2428152634675928,-0.03769532849396548,0.03314818319913265,0.282868018224317,0.6305704884623242,0.48013807976572787,0.04272909392943647,0.12932008336177636,-0.5169707159938954,-0.34488704746870075,0.21864907004670464,0.5126407650398138,-0.5769101867216484,-0.06351132177864897,0.28467815266071783,-0.20842334661879297,0.04697780744922636,0.23161356056830557,0.1535158850912544,-0.45202396144912715,-0.5010315391382016,-0.11844877739515691,0.20842197616391483,-0.1540829711054273,-0.1758111860567033,-0.33642274120822435,0.7341847390548597,0.16047063070600842,0.2824608810023707,0.027437856461484667,0.32286040074238165,0.11549281596071626,0.2963982243052123,0.2912536131268593,0.5043025169513591,0.17930287068112571,-0.12063644074491328,0.13078405342866822,0.7228735608675683,0.3623178316312211]}],                        {\"legend\":{\"title\":{\"text\":\"type\"},\"tracegroupgap\":0},\"margin\":{\"t\":60},\"scene\":{\"domain\":{\"x\":[0.0,1.0],\"y\":[0.0,1.0]},\"xaxis\":{\"title\":{\"text\":\"col1\"}},\"yaxis\":{\"title\":{\"text\":\"col2\"}},\"zaxis\":{\"title\":{\"text\":\"col3\"}}},\"template\":{\"data\":{\"bar\":[{\"error_x\":{\"color\":\"#2a3f5f\"},\"error_y\":{\"color\":\"#2a3f5f\"},\"marker\":{\"line\":{\"color\":\"#E5ECF6\",\"width\":0.5},\"pattern\":{\"fillmode\":\"overlay\",\"size\":10,\"solidity\":0.2}},\"type\":\"bar\"}],\"barpolar\":[{\"marker\":{\"line\":{\"color\":\"#E5ECF6\",\"width\":0.5},\"pattern\":{\"fillmode\":\"overlay\",\"size\":10,\"solidity\":0.2}},\"type\":\"barpolar\"}],\"carpet\":[{\"aaxis\":{\"endlinecolor\":\"#2a3f5f\",\"gridcolor\":\"white\",\"linecolor\":\"white\",\"minorgridcolor\":\"white\",\"startlinecolor\":\"#2a3f5f\"},\"baxis\":{\"endlinecolor\":\"#2a3f5f\",\"gridcolor\":\"white\",\"linecolor\":\"white\",\"minorgridcolor\":\"white\",\"startlinecolor\":\"#2a3f5f\"},\"type\":\"carpet\"}],\"choropleth\":[{\"colorbar\":{\"outlinewidth\":0,\"ticks\":\"\"},\"type\":\"choropleth\"}],\"contour\":[{\"colorbar\":{\"outlinewidth\":0,\"ticks\":\"\"},\"colorscale\":[[0.0,\"#0d0887\"],[0.1111111111111111,\"#46039f\"],[0.2222222222222222,\"#7201a8\"],[0.3333333333333333,\"#9c179e\"],[0.4444444444444444,\"#bd3786\"],[0.5555555555555556,\"#d8576b\"],[0.6666666666666666,\"#ed7953\"],[0.7777777777777778,\"#fb9f3a\"],[0.8888888888888888,\"#fdca26\"],[1.0,\"#f0f921\"]],\"type\":\"contour\"}],\"contourcarpet\":[{\"colorbar\":{\"outlinewidth\":0,\"ticks\":\"\"},\"type\":\"contourcarpet\"}],\"heatmap\":[{\"colorbar\":{\"outlinewidth\":0,\"ticks\":\"\"},\"colorscale\":[[0.0,\"#0d0887\"],[0.1111111111111111,\"#46039f\"],[0.2222222222222222,\"#7201a8\"],[0.3333333333333333,\"#9c179e\"],[0.4444444444444444,\"#bd3786\"],[0.5555555555555556,\"#d8576b\"],[0.6666666666666666,\"#ed7953\"],[0.7777777777777778,\"#fb9f3a\"],[0.8888888888888888,\"#fdca26\"],[1.0,\"#f0f921\"]],\"type\":\"heatmap\"}],\"heatmapgl\":[{\"colorbar\":{\"outlinewidth\":0,\"ticks\":\"\"},\"colorscale\":[[0.0,\"#0d0887\"],[0.1111111111111111,\"#46039f\"],[0.2222222222222222,\"#7201a8\"],[0.3333333333333333,\"#9c179e\"],[0.4444444444444444,\"#bd3786\"],[0.5555555555555556,\"#d8576b\"],[0.6666666666666666,\"#ed7953\"],[0.7777777777777778,\"#fb9f3a\"],[0.8888888888888888,\"#fdca26\"],[1.0,\"#f0f921\"]],\"type\":\"heatmapgl\"}],\"histogram\":[{\"marker\":{\"pattern\":{\"fillmode\":\"overlay\",\"size\":10,\"solidity\":0.2}},\"type\":\"histogram\"}],\"histogram2d\":[{\"colorbar\":{\"outlinewidth\":0,\"ticks\":\"\"},\"colorscale\":[[0.0,\"#0d0887\"],[0.1111111111111111,\"#46039f\"],[0.2222222222222222,\"#7201a8\"],[0.3333333333333333,\"#9c179e\"],[0.4444444444444444,\"#bd3786\"],[0.5555555555555556,\"#d8576b\"],[0.6666666666666666,\"#ed7953\"],[0.7777777777777778,\"#fb9f3a\"],[0.8888888888888888,\"#fdca26\"],[1.0,\"#f0f921\"]],\"type\":\"histogram2d\"}],\"histogram2dcontour\":[{\"colorbar\":{\"outlinewidth\":0,\"ticks\":\"\"},\"colorscale\":[[0.0,\"#0d0887\"],[0.1111111111111111,\"#46039f\"],[0.2222222222222222,\"#7201a8\"],[0.3333333333333333,\"#9c179e\"],[0.4444444444444444,\"#bd3786\"],[0.5555555555555556,\"#d8576b\"],[0.6666666666666666,\"#ed7953\"],[0.7777777777777778,\"#fb9f3a\"],[0.8888888888888888,\"#fdca26\"],[1.0,\"#f0f921\"]],\"type\":\"histogram2dcontour\"}],\"mesh3d\":[{\"colorbar\":{\"outlinewidth\":0,\"ticks\":\"\"},\"type\":\"mesh3d\"}],\"parcoords\":[{\"line\":{\"colorbar\":{\"outlinewidth\":0,\"ticks\":\"\"}},\"type\":\"parcoords\"}],\"pie\":[{\"automargin\":true,\"type\":\"pie\"}],\"scatter\":[{\"marker\":{\"colorbar\":{\"outlinewidth\":0,\"ticks\":\"\"}},\"type\":\"scatter\"}],\"scatter3d\":[{\"line\":{\"colorbar\":{\"outlinewidth\":0,\"ticks\":\"\"}},\"marker\":{\"colorbar\":{\"outlinewidth\":0,\"ticks\":\"\"}},\"type\":\"scatter3d\"}],\"scattercarpet\":[{\"marker\":{\"colorbar\":{\"outlinewidth\":0,\"ticks\":\"\"}},\"type\":\"scattercarpet\"}],\"scattergeo\":[{\"marker\":{\"colorbar\":{\"outlinewidth\":0,\"ticks\":\"\"}},\"type\":\"scattergeo\"}],\"scattergl\":[{\"marker\":{\"colorbar\":{\"outlinewidth\":0,\"ticks\":\"\"}},\"type\":\"scattergl\"}],\"scattermapbox\":[{\"marker\":{\"colorbar\":{\"outlinewidth\":0,\"ticks\":\"\"}},\"type\":\"scattermapbox\"}],\"scatterpolar\":[{\"marker\":{\"colorbar\":{\"outlinewidth\":0,\"ticks\":\"\"}},\"type\":\"scatterpolar\"}],\"scatterpolargl\":[{\"marker\":{\"colorbar\":{\"outlinewidth\":0,\"ticks\":\"\"}},\"type\":\"scatterpolargl\"}],\"scatterternary\":[{\"marker\":{\"colorbar\":{\"outlinewidth\":0,\"ticks\":\"\"}},\"type\":\"scatterternary\"}],\"surface\":[{\"colorbar\":{\"outlinewidth\":0,\"ticks\":\"\"},\"colorscale\":[[0.0,\"#0d0887\"],[0.1111111111111111,\"#46039f\"],[0.2222222222222222,\"#7201a8\"],[0.3333333333333333,\"#9c179e\"],[0.4444444444444444,\"#bd3786\"],[0.5555555555555556,\"#d8576b\"],[0.6666666666666666,\"#ed7953\"],[0.7777777777777778,\"#fb9f3a\"],[0.8888888888888888,\"#fdca26\"],[1.0,\"#f0f921\"]],\"type\":\"surface\"}],\"table\":[{\"cells\":{\"fill\":{\"color\":\"#EBF0F8\"},\"line\":{\"color\":\"white\"}},\"header\":{\"fill\":{\"color\":\"#C8D4E3\"},\"line\":{\"color\":\"white\"}},\"type\":\"table\"}]},\"layout\":{\"annotationdefaults\":{\"arrowcolor\":\"#2a3f5f\",\"arrowhead\":0,\"arrowwidth\":1},\"autotypenumbers\":\"strict\",\"coloraxis\":{\"colorbar\":{\"outlinewidth\":0,\"ticks\":\"\"}},\"colorscale\":{\"diverging\":[[0,\"#8e0152\"],[0.1,\"#c51b7d\"],[0.2,\"#de77ae\"],[0.3,\"#f1b6da\"],[0.4,\"#fde0ef\"],[0.5,\"#f7f7f7\"],[0.6,\"#e6f5d0\"],[0.7,\"#b8e186\"],[0.8,\"#7fbc41\"],[0.9,\"#4d9221\"],[1,\"#276419\"]],\"sequential\":[[0.0,\"#0d0887\"],[0.1111111111111111,\"#46039f\"],[0.2222222222222222,\"#7201a8\"],[0.3333333333333333,\"#9c179e\"],[0.4444444444444444,\"#bd3786\"],[0.5555555555555556,\"#d8576b\"],[0.6666666666666666,\"#ed7953\"],[0.7777777777777778,\"#fb9f3a\"],[0.8888888888888888,\"#fdca26\"],[1.0,\"#f0f921\"]],\"sequentialminus\":[[0.0,\"#0d0887\"],[0.1111111111111111,\"#46039f\"],[0.2222222222222222,\"#7201a8\"],[0.3333333333333333,\"#9c179e\"],[0.4444444444444444,\"#bd3786\"],[0.5555555555555556,\"#d8576b\"],[0.6666666666666666,\"#ed7953\"],[0.7777777777777778,\"#fb9f3a\"],[0.8888888888888888,\"#fdca26\"],[1.0,\"#f0f921\"]]},\"colorway\":[\"#636efa\",\"#EF553B\",\"#00cc96\",\"#ab63fa\",\"#FFA15A\",\"#19d3f3\",\"#FF6692\",\"#B6E880\",\"#FF97FF\",\"#FECB52\"],\"font\":{\"color\":\"#2a3f5f\"},\"geo\":{\"bgcolor\":\"white\",\"lakecolor\":\"white\",\"landcolor\":\"#E5ECF6\",\"showlakes\":true,\"showland\":true,\"subunitcolor\":\"white\"},\"hoverlabel\":{\"align\":\"left\"},\"hovermode\":\"closest\",\"mapbox\":{\"style\":\"light\"},\"paper_bgcolor\":\"white\",\"plot_bgcolor\":\"#E5ECF6\",\"polar\":{\"angularaxis\":{\"gridcolor\":\"white\",\"linecolor\":\"white\",\"ticks\":\"\"},\"bgcolor\":\"#E5ECF6\",\"radialaxis\":{\"gridcolor\":\"white\",\"linecolor\":\"white\",\"ticks\":\"\"}},\"scene\":{\"xaxis\":{\"backgroundcolor\":\"#E5ECF6\",\"gridcolor\":\"white\",\"gridwidth\":2,\"linecolor\":\"white\",\"showbackground\":true,\"ticks\":\"\",\"zerolinecolor\":\"white\"},\"yaxis\":{\"backgroundcolor\":\"#E5ECF6\",\"gridcolor\":\"white\",\"gridwidth\":2,\"linecolor\":\"white\",\"showbackground\":true,\"ticks\":\"\",\"zerolinecolor\":\"white\"},\"zaxis\":{\"backgroundcolor\":\"#E5ECF6\",\"gridcolor\":\"white\",\"gridwidth\":2,\"linecolor\":\"white\",\"showbackground\":true,\"ticks\":\"\",\"zerolinecolor\":\"white\"}},\"shapedefaults\":{\"line\":{\"color\":\"#2a3f5f\"}},\"ternary\":{\"aaxis\":{\"gridcolor\":\"white\",\"linecolor\":\"white\",\"ticks\":\"\"},\"baxis\":{\"gridcolor\":\"white\",\"linecolor\":\"white\",\"ticks\":\"\"},\"bgcolor\":\"#E5ECF6\",\"caxis\":{\"gridcolor\":\"white\",\"linecolor\":\"white\",\"ticks\":\"\"}},\"title\":{\"x\":0.05},\"xaxis\":{\"automargin\":true,\"gridcolor\":\"white\",\"linecolor\":\"white\",\"ticks\":\"\",\"title\":{\"standoff\":15},\"zerolinecolor\":\"white\",\"zerolinewidth\":2},\"yaxis\":{\"automargin\":true,\"gridcolor\":\"white\",\"linecolor\":\"white\",\"ticks\":\"\",\"title\":{\"standoff\":15},\"zerolinecolor\":\"white\",\"zerolinewidth\":2}}}},                        {\"responsive\": true}                    ).then(function(){\n                            \nvar gd = document.getElementById('a461a202-beb5-4989-b7a7-bf0c11a59725');\nvar x = new MutationObserver(function (mutations, observer) {{\n        var display = window.getComputedStyle(gd).display;\n        if (!display || display === 'none') {{\n            console.log([gd, 'removed!']);\n            Plotly.purge(gd);\n            observer.disconnect();\n        }}\n}});\n\n// Listen for the removal of the full notebook cells\nvar notebookContainer = gd.closest('#notebook-container');\nif (notebookContainer) {{\n    x.observe(notebookContainer, {childList: true});\n}}\n\n// Listen for the clearing of the current output cell\nvar outputEl = gd.closest('.output');\nif (outputEl) {{\n    x.observe(outputEl, {childList: true});\n}}\n\n                        })                };                });            </script>        </div>"
     },
     "metadata": {},
     "output_type": "display_data"
    }
   ],
   "source": [
    "import plotly.express as px\n",
    "fig = px.scatter_3d(iris_3d, x='col1', y='col2', z='col3', color='type')\n",
    "fig.show()"
   ],
   "metadata": {
    "collapsed": false,
    "pycharm": {
     "name": "#%%\n"
    }
   }
  },
  {
   "cell_type": "markdown",
   "source": [
    "# Using sklearn"
   ],
   "metadata": {
    "collapsed": false,
    "pycharm": {
     "name": "#%% md\n"
    }
   }
  },
  {
   "cell_type": "code",
   "execution_count": 119,
   "outputs": [],
   "source": [
    "from sklearn.decomposition import PCA\n",
    "pca = PCA(n_components=2)\n",
    "new = pca.fit_transform(iris)"
   ],
   "metadata": {
    "collapsed": false,
    "pycharm": {
     "name": "#%%\n"
    }
   }
  },
  {
   "cell_type": "code",
   "execution_count": 177,
   "outputs": [],
   "source": [
    "converted_2d = pd.DataFrame(new)\n",
    "converted_2d.rename(columns={0: 'col1', 1: 'col2'}, inplace=True)\n",
    "converted_2d['type'] = iris_data.type"
   ],
   "metadata": {
    "collapsed": false,
    "pycharm": {
     "name": "#%%\n"
    }
   }
  },
  {
   "cell_type": "code",
   "execution_count": 178,
   "outputs": [
    {
     "data": {
      "text/plain": "         col1      col2            type\n0   -2.684207  0.326607     Iris-setosa\n1   -2.715391 -0.169557     Iris-setosa\n2   -2.889820 -0.137346     Iris-setosa\n3   -2.746437 -0.311124     Iris-setosa\n4   -2.728593  0.333925     Iris-setosa\n..        ...       ...             ...\n145  1.944017  0.187415  Iris-virginica\n146  1.525664 -0.375021  Iris-virginica\n147  1.764046  0.078519  Iris-virginica\n148  1.901629  0.115877  Iris-virginica\n149  1.389666 -0.282887  Iris-virginica\n\n[150 rows x 3 columns]",
      "text/html": "<div>\n<style scoped>\n    .dataframe tbody tr th:only-of-type {\n        vertical-align: middle;\n    }\n\n    .dataframe tbody tr th {\n        vertical-align: top;\n    }\n\n    .dataframe thead th {\n        text-align: right;\n    }\n</style>\n<table border=\"1\" class=\"dataframe\">\n  <thead>\n    <tr style=\"text-align: right;\">\n      <th></th>\n      <th>col1</th>\n      <th>col2</th>\n      <th>type</th>\n    </tr>\n  </thead>\n  <tbody>\n    <tr>\n      <th>0</th>\n      <td>-2.684207</td>\n      <td>0.326607</td>\n      <td>Iris-setosa</td>\n    </tr>\n    <tr>\n      <th>1</th>\n      <td>-2.715391</td>\n      <td>-0.169557</td>\n      <td>Iris-setosa</td>\n    </tr>\n    <tr>\n      <th>2</th>\n      <td>-2.889820</td>\n      <td>-0.137346</td>\n      <td>Iris-setosa</td>\n    </tr>\n    <tr>\n      <th>3</th>\n      <td>-2.746437</td>\n      <td>-0.311124</td>\n      <td>Iris-setosa</td>\n    </tr>\n    <tr>\n      <th>4</th>\n      <td>-2.728593</td>\n      <td>0.333925</td>\n      <td>Iris-setosa</td>\n    </tr>\n    <tr>\n      <th>...</th>\n      <td>...</td>\n      <td>...</td>\n      <td>...</td>\n    </tr>\n    <tr>\n      <th>145</th>\n      <td>1.944017</td>\n      <td>0.187415</td>\n      <td>Iris-virginica</td>\n    </tr>\n    <tr>\n      <th>146</th>\n      <td>1.525664</td>\n      <td>-0.375021</td>\n      <td>Iris-virginica</td>\n    </tr>\n    <tr>\n      <th>147</th>\n      <td>1.764046</td>\n      <td>0.078519</td>\n      <td>Iris-virginica</td>\n    </tr>\n    <tr>\n      <th>148</th>\n      <td>1.901629</td>\n      <td>0.115877</td>\n      <td>Iris-virginica</td>\n    </tr>\n    <tr>\n      <th>149</th>\n      <td>1.389666</td>\n      <td>-0.282887</td>\n      <td>Iris-virginica</td>\n    </tr>\n  </tbody>\n</table>\n<p>150 rows × 3 columns</p>\n</div>"
     },
     "execution_count": 178,
     "metadata": {},
     "output_type": "execute_result"
    }
   ],
   "source": [
    "converted_2d"
   ],
   "metadata": {
    "collapsed": false,
    "pycharm": {
     "name": "#%%\n"
    }
   }
  },
  {
   "cell_type": "code",
   "execution_count": 179,
   "outputs": [
    {
     "data": {
      "text/plain": "<AxesSubplot:xlabel='col1', ylabel='col2'>"
     },
     "execution_count": 179,
     "metadata": {},
     "output_type": "execute_result"
    },
    {
     "data": {
      "text/plain": "<Figure size 432x288 with 1 Axes>",
      "image/png": "[encoded data removed]"
     },
     "metadata": {
      "needs_background": "light"
     },
     "output_type": "display_data"
    }
   ],
   "source": [
    "sns.scatterplot(data=converted_2d, x='col1', y='col2', hue='type')"
   ],
   "metadata": {
    "collapsed": false,
    "pycharm": {
     "name": "#%%\n"
    }
   }
  },
  {
   "cell_type": "code",
   "execution_count": null,
   "outputs": [],
   "source": [],
   "metadata": {
    "collapsed": false,
    "pycharm": {
     "name": "#%%\n"
    }
   }
  },
  {
   "cell_type": "code",
   "execution_count": 133,
   "outputs": [],
   "source": [
    "pca1 = PCA(n_components=3)\n",
    "new1 = pca1.fit_transform(iris)"
   ],
   "metadata": {
    "collapsed": false,
    "pycharm": {
     "name": "#%%\n"
    }
   }
  },
  {
   "cell_type": "code",
   "execution_count": 180,
   "outputs": [],
   "source": [
    "converted_3d = pd.DataFrame(new1)\n",
    "converted_3d.rename(columns={0: 'col1', 1: 'col2', 2: 'col3'}, inplace=True)\n",
    "converted_3d['type'] = iris_data.type"
   ],
   "metadata": {
    "collapsed": false,
    "pycharm": {
     "name": "#%%\n"
    }
   }
  },
  {
   "cell_type": "code",
   "execution_count": 181,
   "outputs": [
    {
     "data": {
      "text/plain": "         col1      col2      col3            type\n0   -2.684207  0.326607 -0.021512     Iris-setosa\n1   -2.715391 -0.169557 -0.203521     Iris-setosa\n2   -2.889820 -0.137346  0.024709     Iris-setosa\n3   -2.746437 -0.311124  0.037672     Iris-setosa\n4   -2.728593  0.333925  0.096230     Iris-setosa\n..        ...       ...       ...             ...\n145  1.944017  0.187415  0.179303  Iris-virginica\n146  1.525664 -0.375021 -0.120636  Iris-virginica\n147  1.764046  0.078519  0.130784  Iris-virginica\n148  1.901629  0.115877  0.722874  Iris-virginica\n149  1.389666 -0.282887  0.362318  Iris-virginica\n\n[150 rows x 4 columns]",
      "text/html": "<div>\n<style scoped>\n    .dataframe tbody tr th:only-of-type {\n        vertical-align: middle;\n    }\n\n    .dataframe tbody tr th {\n        vertical-align: top;\n    }\n\n    .dataframe thead th {\n        text-align: right;\n    }\n</style>\n<table border=\"1\" class=\"dataframe\">\n  <thead>\n    <tr style=\"text-align: right;\">\n      <th></th>\n      <th>col1</th>\n      <th>col2</th>\n      <th>col3</th>\n      <th>type</th>\n    </tr>\n  </thead>\n  <tbody>\n    <tr>\n      <th>0</th>\n      <td>-2.684207</td>\n      <td>0.326607</td>\n      <td>-0.021512</td>\n      <td>Iris-setosa</td>\n    </tr>\n    <tr>\n      <th>1</th>\n      <td>-2.715391</td>\n      <td>-0.169557</td>\n      <td>-0.203521</td>\n      <td>Iris-setosa</td>\n    </tr>\n    <tr>\n      <th>2</th>\n      <td>-2.889820</td>\n      <td>-0.137346</td>\n      <td>0.024709</td>\n      <td>Iris-setosa</td>\n    </tr>\n    <tr>\n      <th>3</th>\n      <td>-2.746437</td>\n      <td>-0.311124</td>\n      <td>0.037672</td>\n      <td>Iris-setosa</td>\n    </tr>\n    <tr>\n      <th>4</th>\n      <td>-2.728593</td>\n      <td>0.333925</td>\n      <td>0.096230</td>\n      <td>Iris-setosa</td>\n    </tr>\n    <tr>\n      <th>...</th>\n      <td>...</td>\n      <td>...</td>\n      <td>...</td>\n      <td>...</td>\n    </tr>\n    <tr>\n      <th>145</th>\n      <td>1.944017</td>\n      <td>0.187415</td>\n      <td>0.179303</td>\n      <td>Iris-virginica</td>\n    </tr>\n    <tr>\n      <th>146</th>\n      <td>1.525664</td>\n      <td>-0.375021</td>\n      <td>-0.120636</td>\n      <td>Iris-virginica</td>\n    </tr>\n    <tr>\n      <th>147</th>\n      <td>1.764046</td>\n      <td>0.078519</td>\n      <td>0.130784</td>\n      <td>Iris-virginica</td>\n    </tr>\n    <tr>\n      <th>148</th>\n      <td>1.901629</td>\n      <td>0.115877</td>\n      <td>0.722874</td>\n      <td>Iris-virginica</td>\n    </tr>\n    <tr>\n      <th>149</th>\n      <td>1.389666</td>\n      <td>-0.282887</td>\n      <td>0.362318</td>\n      <td>Iris-virginica</td>\n    </tr>\n  </tbody>\n</table>\n<p>150 rows × 4 columns</p>\n</div>"
     },
     "execution_count": 181,
     "metadata": {},
     "output_type": "execute_result"
    }
   ],
   "source": [
    "converted_3d"
   ],
   "metadata": {
    "collapsed": false,
    "pycharm": {
     "name": "#%%\n"
    }
   }
  },
  {
   "cell_type": "code",
   "execution_count": 182,
   "outputs": [
    {
     "data": {
      "application/vnd.plotly.v1+json": {
       "config": {
        "plotlyServerURL": "https://plot.ly"
       },
       "data": [
        {
         "hovertemplate": "type=Iris-setosa<br>col1=%{x}<br>col2=%{y}<br>col3=%{z}<extra></extra>",
         "legendgroup": "Iris-setosa",
         "marker": {
          "color": "#636efa",
          "symbol": "circle"
         },
         "mode": "markers",
         "name": "Iris-setosa",
         "scene": "scene",
         "showlegend": true,
         "type": "scatter3d",
         "x": [
          -2.6842071251039505,
          -2.715390615634132,
          -2.889819539617918,
          -2.746437197308735,
          -2.7285929818313144,
          -2.2798973610095974,
          -2.82089068218063,
          -2.626481993323819,
          -2.887958565335635,
          -2.673844686719121,
          -2.506526789338903,
          -2.613142718271056,
          -2.7874339759970974,
          -3.2252004462749815,
          -2.6435432169411457,
          -2.383869323799375,
          -2.6225262031258083,
          -2.6483227324791265,
          -2.199077961430762,
          -2.587346188917738,
          -2.310531701313133,
          -2.5432349073036953,
          -3.215857694900106,
          -2.3031285376638824,
          -2.3561710866838976,
          -2.5079172268378804,
          -2.469055997545123,
          -2.56239094683675,
          -2.639821268376582,
          -2.6328479080307585,
          -2.5884620513033916,
          -2.4100773371215953,
          -2.6476366733969003,
          -2.5971594770759183,
          -2.673844686719121,
          -2.866999846932534,
          -2.6252284646804216,
          -2.673844686719121,
          -2.981842664853909,
          -2.590323025585674,
          -2.7701389107463243,
          -2.8522110815663924,
          -2.9982964428323524,
          -2.405514101284701,
          -2.208832954176705,
          -2.7156651907474547,
          -2.537573371013506,
          -2.840321296827009,
          -2.5426857570770487,
          -2.70391231486365
         ],
         "y": [
          0.3266073147643893,
          -0.16955684755602557,
          -0.13734560960502698,
          -0.3111243157519913,
          0.3339245635684551,
          0.7477827132251336,
          -0.08210451102468048,
          0.17040534896029028,
          -0.5707980263315909,
          -0.10669170375273791,
          0.6519350136725722,
          0.021520631960258444,
          -0.22774018887110564,
          -0.503279909485425,
          1.1861948994134495,
          1.344754344559862,
          0.8180896745965955,
          0.31913666775088506,
          0.8792440880917366,
          0.5204736388059681,
          0.3978678215888922,
          0.4400317546598155,
          0.14161557162558389,
          0.10552267842998267,
          -0.031209589068337873,
          -0.13905633991317345,
          0.13788731459041814,
          0.37468456275010653,
          0.31929006596032233,
          -0.19007583063362354,
          -0.19739307943769022,
          0.4180800082476165,
          0.8199826325595072,
          1.1000219280072685,
          -0.10669170375273791,
          0.07719309572358762,
          0.6068000084215869,
          -0.10669170375273791,
          -0.48025004885607586,
          0.2360593372888733,
          0.2710594197651675,
          -0.9328653674695435,
          -0.33430757459077654,
          0.19591725769606108,
          0.44269603042100303,
          -0.24268148289811234,
          0.5103675454766061,
          -0.2205763382764761,
          0.5862810253439886,
          0.11501085217050609
         ],
         "z": [
          -0.021511837001963158,
          -0.20352142500549122,
          0.024709240998957018,
          0.037671975285301314,
          0.09622969977460943,
          0.17432561901640295,
          0.2642510851906963,
          -0.01580151026431498,
          0.02733540611450737,
          -0.19153329973564456,
          -0.0692749958139309,
          0.10765035324990481,
          -0.20032778809538915,
          0.06841362917233045,
          -0.14450570400963536,
          0.283730663939777,
          0.14531598882161786,
          0.033394254070698126,
          -0.11452146479835282,
          0.21957208800082503,
          -0.23369560709796924,
          0.21483637027967545,
          0.29961898151087135,
          0.04568004127448719,
          0.12940757589599364,
          -0.24711633789085968,
          0.10126307942970225,
          -0.07235915743602812,
          -0.13925337377853472,
          0.046466463645045905,
          -0.07127507313152591,
          -0.13838824005004094,
          0.2305856042541729,
          0.1635819126236627,
          -0.19153329973564456,
          -0.15684235049802409,
          -0.26116315648170557,
          -0.19153329973564456,
          0.0797248073596214,
          -0.07390123824707642,
          0.08424157450476327,
          -0.3409614911071515,
          0.19900842494724208,
          0.2707170703688334,
          0.3034878092682705,
          -0.09051560595006823,
          0.1719184044768608,
          0.09006137653041538,
          -0.011175267831169006,
          -0.08269572660682156
         ]
        },
        {
         "hovertemplate": "type=Iris-versicolor<br>col1=%{x}<br>col2=%{y}<br>col3=%{z}<extra></extra>",
         "legendgroup": "Iris-versicolor",
         "marker": {
          "color": "#EF553B",
          "symbol": "circle"
         },
         "mode": "markers",
         "name": "Iris-versicolor",
         "scene": "scene",
         "showlegend": true,
         "type": "scatter3d",
         "x": [
          1.2847945878450713,
          0.9324107529829175,
          1.464061322779075,
          0.18096720634769825,
          1.0871344872070006,
          0.6404367495231453,
          1.095223709938478,
          -0.7514671406482272,
          1.0432977807062804,
          -0.010190070727853617,
          -0.5110861958950911,
          0.5110980606834772,
          0.26233575615317983,
          0.9840445451694306,
          -0.17486400196569646,
          0.9275729420327001,
          0.6595927890562006,
          0.2345405862598353,
          0.9423617073988414,
          0.04324640032870414,
          1.1162407237538159,
          0.35678656783046087,
          1.2964688502855337,
          0.9205026489090092,
          0.7140082136428331,
          0.8996408632837756,
          1.3310414188547197,
          1.5573962720707026,
          0.8124555489980017,
          -0.3073347556634047,
          -0.07034288894927208,
          -0.1918844921031462,
          0.134994950451373,
          1.3787369827755827,
          0.5872748535799106,
          0.8072054966767163,
          1.2204289662446801,
          0.8128677903690691,
          0.24519516169034566,
          0.16451342836925528,
          0.4630309888714239,
          0.890160445651156,
          0.22887904996964722,
          -0.7070812839208609,
          0.3555330391870631,
          0.3311269473327227,
          0.3752382289467655,
          0.6416902781665429,
          -0.9084633331234954,
          0.2978079074069337
         ],
         "y": [
          0.6854391861329203,
          0.31919808983364906,
          0.5041898329724533,
          -0.8256039435761123,
          0.07539038928876804,
          -0.4173234829700251,
          0.28389121093848063,
          -1.0011075129743934,
          0.2289569087770073,
          -0.7205748667019009,
          -1.2624919538621393,
          -0.10228410504596974,
          -0.5478932980253358,
          -0.1243604202222774,
          -0.25181557108016994,
          0.46823620504311764,
          -0.351976291060316,
          -0.33192182936211967,
          -0.5418222581500133,
          -0.5814894466123579,
          -0.08421401387837309,
          -0.06682382794136563,
          -0.3275615197949435,
          -0.1823903633279204,
          0.15037915314843772,
          0.32961097958188434,
          0.24466952060228975,
          0.26739258481276523,
          -0.1623315748786328,
          -0.36508661276615967,
          -0.7025379317307251,
          -0.6774905443743563,
          -0.3117096427033955,
          -0.4212051382146277,
          -0.48328426771748184,
          0.1950539637711119,
          0.4080353370010179,
          -0.37067899831890905,
          -0.26672803566184744,
          -0.679661469310813,
          -0.6695265465361218,
          -0.03381244274676222,
          -0.4022576201789106,
          -1.00842476177846,
          -0.5032184874026616,
          -0.21118014066262616,
          -0.2916220248087792,
          0.01907117649127125,
          -0.7515687251694848,
          -0.3470165215985632
         ],
         "z": [
          -0.40612955307696313,
          -0.017129909205125287,
          -0.3382607277179589,
          -0.1770828563933648,
          -0.3065444648144318,
          0.041188769353644517,
          0.1700225337414999,
          0.015672194238160155,
          -0.4148145661487038,
          0.2834372462541256,
          -0.2664899538224497,
          0.13232789047497376,
          -0.6919415783189646,
          -0.062157427613538735,
          0.09365863819195044,
          -0.3132294005685773,
          0.328384297069348,
          -0.2702806708356935,
          -0.49734854117770444,
          -0.2329635564825227,
          0.4598442265727535,
          -0.22747218032088332,
          -0.3475132125842501,
          -0.2316114185526699,
          -0.32037233282926963,
          -0.31477148137962563,
          -0.5212449247379847,
          -0.16463849085222862,
          0.0363435763444907,
          -0.31533719693891993,
          -0.24175804484226787,
          -0.3039165434636246,
          -0.17497330378776516,
          0.01548049512170846,
          0.4445837530348709,
          0.3894587113862025,
          -0.23656608684982805,
          -0.6128710500606729,
          0.18956248472924203,
          -0.057799238805744134,
          -0.02405389088980913,
          -0.009768026368424694,
          -0.22736270503287923,
          -0.10206934253841154,
          0.017889465896507636,
          0.08380907322251581,
          0.079073355501366,
          -0.20417287686374613,
          -0.007736584506980691,
          0.012179139158859403
         ]
        },
        {
         "hovertemplate": "type=Iris-virginica<br>col1=%{x}<br>col2=%{y}<br>col3=%{z}<extra></extra>",
         "legendgroup": "Iris-virginica",
         "marker": {
          "color": "#00cc96",
          "symbol": "circle"
         },
         "mode": "markers",
         "name": "Iris-virginica",
         "scene": "scene",
         "showlegend": true,
         "type": "scatter3d",
         "x": [
          2.531726980439558,
          1.4140722251737574,
          2.616484608284044,
          1.9708149459064817,
          2.3497579839509424,
          3.3968799206781375,
          0.5193832450849356,
          2.9320050969913005,
          2.319672793874054,
          2.9181342336442517,
          1.6619349470194869,
          1.8023404526607332,
          2.1653788629533977,
          1.3445942175098242,
          1.585267299308644,
          1.9047435782139122,
          1.9492487818644981,
          3.488765379656386,
          3.7946868612099696,
          1.2983298245678156,
          2.4281672590208485,
          1.1980973722749628,
          3.4992654842989572,
          1.3876682501815554,
          2.2758536493056947,
          2.614193830698334,
          1.257625182925136,
          1.2906696477376012,
          2.122853980508313,
          2.387564402369028,
          2.8409609252853834,
          3.2323428982958755,
          2.1587383731331347,
          1.4431026043759745,
          1.7796401068985694,
          3.0765216210206607,
          2.1449868567093042,
          1.9048629251371318,
          1.1688534694704034,
          2.1076537311732686,
          2.314303394629549,
          1.9224508848357524,
          1.4140722251737574,
          2.5633227123408093,
          2.4193912198049805,
          1.9440170488777375,
          1.525663631313872,
          1.7640459355269826,
          1.9016290752882326,
          1.3896661333194171
         ],
         "y": [
          -0.011842236640300203,
          -0.5749250559123044,
          0.3419352869872951,
          -0.18112569470491324,
          -0.04188254965484146,
          0.547168046230153,
          -1.1913516890506524,
          0.35237700618086015,
          -0.24554817060690962,
          0.780380629372032,
          0.2420384010375227,
          -0.2161546066265358,
          0.21528028337300759,
          -0.7764154251768243,
          -0.5393070538471717,
          0.1188189909826988,
          0.04073025942776823,
          1.1715445442635641,
          0.2532655709725349,
          -0.7610139365215071,
          0.37678197125415275,
          -0.605578961764594,
          0.45677346696407484,
          -0.20403098657015428,
          0.3333865257566424,
          0.5583669502788225,
          -0.17913699742322234,
          -0.11642525182937209,
          -0.21085488454948942,
          0.4625192507262609,
          0.37274259104902163,
          1.3705240359763338,
          -0.21832553156299275,
          -0.14380128908272571,
          -0.5014647947060148,
          0.6857644422460569,
          0.13890660887731462,
          0.04804750823183493,
          -0.1645024998150895,
          0.37148224917710604,
          0.18260885079369893,
          0.40927117617869585,
          -0.5749250559123044,
          0.2759745022398383,
          0.30350393770262907,
          0.1874152220460143,
          -0.3750208481918223,
          0.07851918642935785,
          0.1158767482479658,
          -0.28288670917226877
         ],
         "z": [
          0.7584586515284952,
          0.2963982243052133,
          -0.11214137055436671,
          0.10653914864984612,
          0.28411068086616736,
          -0.35187315762730137,
          0.5466855311249489,
          -0.4236912783368968,
          -0.3499221833590494,
          0.4217389336137672,
          0.2428152634675931,
          -0.03769532849396468,
          0.03314818319913311,
          0.2828680182243183,
          0.6305704884623257,
          0.48013807976572837,
          0.0427290939294367,
          0.1293200833617756,
          -0.5169707159938948,
          -0.34488704746869964,
          0.21864907004670517,
          0.5126407650398148,
          -0.576910186721648,
          -0.063511321778648,
          0.2846781526607178,
          -0.20842334661879322,
          0.046977807449227194,
          0.2316135605683061,
          0.1535158850912552,
          -0.45202396144912727,
          -0.5010315391382013,
          -0.11844877739515786,
          0.20842197616391567,
          -0.15408297110542696,
          -0.17581118605670318,
          -0.3364227412082239,
          0.7341847390548601,
          0.16047063070600853,
          0.28246088100237127,
          0.02743785646148528,
          0.32286040074238254,
          0.11549281596071719,
          0.2963982243052133,
          0.2912536131268596,
          0.5043025169513595,
          0.17930287068112655,
          -0.12063644074491206,
          0.13078405342866878,
          0.7228735608675687,
          0.3623178316312216
         ]
        }
       ],
       "layout": {
        "legend": {
         "title": {
          "text": "type"
         },
         "tracegroupgap": 0
        },
        "margin": {
         "t": 60
        },
        "scene": {
         "domain": {
          "x": [
           0.0,
           1.0
          ],
          "y": [
           0.0,
           1.0
          ]
         },
         "xaxis": {
          "title": {
           "text": "col1"
          }
         },
         "yaxis": {
          "title": {
           "text": "col2"
          }
         },
         "zaxis": {
          "title": {
           "text": "col3"
          }
         }
        },
        "template": {
         "data": {
          "bar": [
           {
            "error_x": {
             "color": "#2a3f5f"
            },
            "error_y": {
             "color": "#2a3f5f"
            },
            "marker": {
             "line": {
              "color": "#E5ECF6",
              "width": 0.5
             },
             "pattern": {
              "fillmode": "overlay",
              "size": 10,
              "solidity": 0.2
             }
            },
            "type": "bar"
           }
          ],
          "barpolar": [
           {
            "marker": {
             "line": {
              "color": "#E5ECF6",
              "width": 0.5
             },
             "pattern": {
              "fillmode": "overlay",
              "size": 10,
              "solidity": 0.2
             }
            },
            "type": "barpolar"
           }
          ],
          "carpet": [
           {
            "aaxis": {
             "endlinecolor": "#2a3f5f",
             "gridcolor": "white",
             "linecolor": "white",
             "minorgridcolor": "white",
             "startlinecolor": "#2a3f5f"
            },
            "baxis": {
             "endlinecolor": "#2a3f5f",
             "gridcolor": "white",
             "linecolor": "white",
             "minorgridcolor": "white",
             "startlinecolor": "#2a3f5f"
            },
            "type": "carpet"
           }
          ],
          "choropleth": [
           {
            "colorbar": {
             "outlinewidth": 0,
             "ticks": ""
            },
            "type": "choropleth"
           }
          ],
          "contour": [
           {
            "colorbar": {
             "outlinewidth": 0,
             "ticks": ""
            },
            "colorscale": [
             [
              0.0,
              "#0d0887"
             ],
             [
              0.1111111111111111,
              "#46039f"
             ],
             [
              0.2222222222222222,
              "#7201a8"
             ],
             [
              0.3333333333333333,
              "#9c179e"
             ],
             [
              0.4444444444444444,
              "#bd3786"
             ],
             [
              0.5555555555555556,
              "#d8576b"
             ],
             [
              0.6666666666666666,
              "#ed7953"
             ],
             [
              0.7777777777777778,
              "#fb9f3a"
             ],
             [
              0.8888888888888888,
              "#fdca26"
             ],
             [
              1.0,
              "#f0f921"
             ]
            ],
            "type": "contour"
           }
          ],
          "contourcarpet": [
           {
            "colorbar": {
             "outlinewidth": 0,
             "ticks": ""
            },
            "type": "contourcarpet"
           }
          ],
          "heatmap": [
           {
            "colorbar": {
             "outlinewidth": 0,
             "ticks": ""
            },
            "colorscale": [
             [
              0.0,
              "#0d0887"
             ],
             [
              0.1111111111111111,
              "#46039f"
             ],
             [
              0.2222222222222222,
              "#7201a8"
             ],
             [
              0.3333333333333333,
              "#9c179e"
             ],
             [
              0.4444444444444444,
              "#bd3786"
             ],
             [
              0.5555555555555556,
              "#d8576b"
             ],
             [
              0.6666666666666666,
              "#ed7953"
             ],
             [
              0.7777777777777778,
              "#fb9f3a"
             ],
             [
              0.8888888888888888,
              "#fdca26"
             ],
             [
              1.0,
              "#f0f921"
             ]
            ],
            "type": "heatmap"
           }
          ],
          "heatmapgl": [
           {
            "colorbar": {
             "outlinewidth": 0,
             "ticks": ""
            },
            "colorscale": [
             [
              0.0,
              "#0d0887"
             ],
             [
              0.1111111111111111,
              "#46039f"
             ],
             [
              0.2222222222222222,
              "#7201a8"
             ],
             [
              0.3333333333333333,
              "#9c179e"
             ],
             [
              0.4444444444444444,
              "#bd3786"
             ],
             [
              0.5555555555555556,
              "#d8576b"
             ],
             [
              0.6666666666666666,
              "#ed7953"
             ],
             [
              0.7777777777777778,
              "#fb9f3a"
             ],
             [
              0.8888888888888888,
              "#fdca26"
             ],
             [
              1.0,
              "#f0f921"
             ]
            ],
            "type": "heatmapgl"
           }
          ],
          "histogram": [
           {
            "marker": {
             "pattern": {
              "fillmode": "overlay",
              "size": 10,
              "solidity": 0.2
             }
            },
            "type": "histogram"
           }
          ],
          "histogram2d": [
           {
            "colorbar": {
             "outlinewidth": 0,
             "ticks": ""
            },
            "colorscale": [
             [
              0.0,
              "#0d0887"
             ],
             [
              0.1111111111111111,
              "#46039f"
             ],
             [
              0.2222222222222222,
              "#7201a8"
             ],
             [
              0.3333333333333333,
              "#9c179e"
             ],
             [
              0.4444444444444444,
              "#bd3786"
             ],
             [
              0.5555555555555556,
              "#d8576b"
             ],
             [
              0.6666666666666666,
              "#ed7953"
             ],
             [
              0.7777777777777778,
              "#fb9f3a"
             ],
             [
              0.8888888888888888,
              "#fdca26"
             ],
             [
              1.0,
              "#f0f921"
             ]
            ],
            "type": "histogram2d"
           }
          ],
          "histogram2dcontour": [
           {
            "colorbar": {
             "outlinewidth": 0,
             "ticks": ""
            },
            "colorscale": [
             [
              0.0,
              "#0d0887"
             ],
             [
              0.1111111111111111,
              "#46039f"
             ],
             [
              0.2222222222222222,
              "#7201a8"
             ],
             [
              0.3333333333333333,
              "#9c179e"
             ],
             [
              0.4444444444444444,
              "#bd3786"
             ],
             [
              0.5555555555555556,
              "#d8576b"
             ],
             [
              0.6666666666666666,
              "#ed7953"
             ],
             [
              0.7777777777777778,
              "#fb9f3a"
             ],
             [
              0.8888888888888888,
              "#fdca26"
             ],
             [
              1.0,
              "#f0f921"
             ]
            ],
            "type": "histogram2dcontour"
           }
          ],
          "mesh3d": [
           {
            "colorbar": {
             "outlinewidth": 0,
             "ticks": ""
            },
            "type": "mesh3d"
           }
          ],
          "parcoords": [
           {
            "line": {
             "colorbar": {
              "outlinewidth": 0,
              "ticks": ""
             }
            },
            "type": "parcoords"
           }
          ],
          "pie": [
           {
            "automargin": true,
            "type": "pie"
           }
          ],
          "scatter": [
           {
            "marker": {
             "colorbar": {
              "outlinewidth": 0,
              "ticks": ""
             }
            },
            "type": "scatter"
           }
          ],
          "scatter3d": [
           {
            "line": {
             "colorbar": {
              "outlinewidth": 0,
              "ticks": ""
             }
            },
            "marker": {
             "colorbar": {
              "outlinewidth": 0,
              "ticks": ""
             }
            },
            "type": "scatter3d"
           }
          ],
          "scattercarpet": [
           {
            "marker": {
             "colorbar": {
              "outlinewidth": 0,
              "ticks": ""
             }
            },
            "type": "scattercarpet"
           }
          ],
          "scattergeo": [
           {
            "marker": {
             "colorbar": {
              "outlinewidth": 0,
              "ticks": ""
             }
            },
            "type": "scattergeo"
           }
          ],
          "scattergl": [
           {
            "marker": {
             "colorbar": {
              "outlinewidth": 0,
              "ticks": ""
             }
            },
            "type": "scattergl"
           }
          ],
          "scattermapbox": [
           {
            "marker": {
             "colorbar": {
              "outlinewidth": 0,
              "ticks": ""
             }
            },
            "type": "scattermapbox"
           }
          ],
          "scatterpolar": [
           {
            "marker": {
             "colorbar": {
              "outlinewidth": 0,
              "ticks": ""
             }
            },
            "type": "scatterpolar"
           }
          ],
          "scatterpolargl": [
           {
            "marker": {
             "colorbar": {
              "outlinewidth": 0,
              "ticks": ""
             }
            },
            "type": "scatterpolargl"
           }
          ],
          "scatterternary": [
           {
            "marker": {
             "colorbar": {
              "outlinewidth": 0,
              "ticks": ""
             }
            },
            "type": "scatterternary"
           }
          ],
          "surface": [
           {
            "colorbar": {
             "outlinewidth": 0,
             "ticks": ""
            },
            "colorscale": [
             [
              0.0,
              "#0d0887"
             ],
             [
              0.1111111111111111,
              "#46039f"
             ],
             [
              0.2222222222222222,
              "#7201a8"
             ],
             [
              0.3333333333333333,
              "#9c179e"
             ],
             [
              0.4444444444444444,
              "#bd3786"
             ],
             [
              0.5555555555555556,
              "#d8576b"
             ],
             [
              0.6666666666666666,
              "#ed7953"
             ],
             [
              0.7777777777777778,
              "#fb9f3a"
             ],
             [
              0.8888888888888888,
              "#fdca26"
             ],
             [
              1.0,
              "#f0f921"
             ]
            ],
            "type": "surface"
           }
          ],
          "table": [
           {
            "cells": {
             "fill": {
              "color": "#EBF0F8"
             },
             "line": {
              "color": "white"
             }
            },
            "header": {
             "fill": {
              "color": "#C8D4E3"
             },
             "line": {
              "color": "white"
             }
            },
            "type": "table"
           }
          ]
         },
         "layout": {
          "annotationdefaults": {
           "arrowcolor": "#2a3f5f",
           "arrowhead": 0,
           "arrowwidth": 1
          },
          "autotypenumbers": "strict",
          "coloraxis": {
           "colorbar": {
            "outlinewidth": 0,
            "ticks": ""
           }
          },
          "colorscale": {
           "diverging": [
            [
             0,
             "#8e0152"
            ],
            [
             0.1,
             "#c51b7d"
            ],
            [
             0.2,
             "#de77ae"
            ],
            [
             0.3,
             "#f1b6da"
            ],
            [
             0.4,
             "#fde0ef"
            ],
            [
             0.5,
             "#f7f7f7"
            ],
            [
             0.6,
             "#e6f5d0"
            ],
            [
             0.7,
             "#b8e186"
            ],
            [
             0.8,
             "#7fbc41"
            ],
            [
             0.9,
             "#4d9221"
            ],
            [
             1,
             "#276419"
            ]
           ],
           "sequential": [
            [
             0.0,
             "#0d0887"
            ],
            [
             0.1111111111111111,
             "#46039f"
            ],
            [
             0.2222222222222222,
             "#7201a8"
            ],
            [
             0.3333333333333333,
             "#9c179e"
            ],
            [
             0.4444444444444444,
             "#bd3786"
            ],
            [
             0.5555555555555556,
             "#d8576b"
            ],
            [
             0.6666666666666666,
             "#ed7953"
            ],
            [
             0.7777777777777778,
             "#fb9f3a"
            ],
            [
             0.8888888888888888,
             "#fdca26"
            ],
            [
             1.0,
             "#f0f921"
            ]
           ],
           "sequentialminus": [
            [
             0.0,
             "#0d0887"
            ],
            [
             0.1111111111111111,
             "#46039f"
            ],
            [
             0.2222222222222222,
             "#7201a8"
            ],
            [
             0.3333333333333333,
             "#9c179e"
            ],
            [
             0.4444444444444444,
             "#bd3786"
            ],
            [
             0.5555555555555556,
             "#d8576b"
            ],
            [
             0.6666666666666666,
             "#ed7953"
            ],
            [
             0.7777777777777778,
             "#fb9f3a"
            ],
            [
             0.8888888888888888,
             "#fdca26"
            ],
            [
             1.0,
             "#f0f921"
            ]
           ]
          },
          "colorway": [
           "#636efa",
           "#EF553B",
           "#00cc96",
           "#ab63fa",
           "#FFA15A",
           "#19d3f3",
           "#FF6692",
           "#B6E880",
           "#FF97FF",
           "#FECB52"
          ],
          "font": {
           "color": "#2a3f5f"
          },
          "geo": {
           "bgcolor": "white",
           "lakecolor": "white",
           "landcolor": "#E5ECF6",
           "showlakes": true,
           "showland": true,
           "subunitcolor": "white"
          },
          "hoverlabel": {
           "align": "left"
          },
          "hovermode": "closest",
          "mapbox": {
           "style": "light"
          },
          "paper_bgcolor": "white",
          "plot_bgcolor": "#E5ECF6",
          "polar": {
           "angularaxis": {
            "gridcolor": "white",
            "linecolor": "white",
            "ticks": ""
           },
           "bgcolor": "#E5ECF6",
           "radialaxis": {
            "gridcolor": "white",
            "linecolor": "white",
            "ticks": ""
           }
          },
          "scene": {
           "xaxis": {
            "backgroundcolor": "#E5ECF6",
            "gridcolor": "white",
            "gridwidth": 2,
            "linecolor": "white",
            "showbackground": true,
            "ticks": "",
            "zerolinecolor": "white"
           },
           "yaxis": {
            "backgroundcolor": "#E5ECF6",
            "gridcolor": "white",
            "gridwidth": 2,
            "linecolor": "white",
            "showbackground": true,
            "ticks": "",
            "zerolinecolor": "white"
           },
           "zaxis": {
            "backgroundcolor": "#E5ECF6",
            "gridcolor": "white",
            "gridwidth": 2,
            "linecolor": "white",
            "showbackground": true,
            "ticks": "",
            "zerolinecolor": "white"
           }
          },
          "shapedefaults": {
           "line": {
            "color": "#2a3f5f"
           }
          },
          "ternary": {
           "aaxis": {
            "gridcolor": "white",
            "linecolor": "white",
            "ticks": ""
           },
           "baxis": {
            "gridcolor": "white",
            "linecolor": "white",
            "ticks": ""
           },
           "bgcolor": "#E5ECF6",
           "caxis": {
            "gridcolor": "white",
            "linecolor": "white",
            "ticks": ""
           }
          },
          "title": {
           "x": 0.05
          },
          "xaxis": {
           "automargin": true,
           "gridcolor": "white",
           "linecolor": "white",
           "ticks": "",
           "title": {
            "standoff": 15
           },
           "zerolinecolor": "white",
           "zerolinewidth": 2
          },
          "yaxis": {
           "automargin": true,
           "gridcolor": "white",
           "linecolor": "white",
           "ticks": "",
           "title": {
            "standoff": 15
           },
           "zerolinecolor": "white",
           "zerolinewidth": 2
          }
         }
        }
       }
      },
      "text/html": "<div>                            <div id=\"2dbbe099-2da2-4521-b759-1f380fa1a9d9\" class=\"plotly-graph-div\" style=\"height:525px; width:100%;\"></div>            <script type=\"text/javascript\">                require([\"plotly\"], function(Plotly) {                    window.PLOTLYENV=window.PLOTLYENV || {};                                    if (document.getElementById(\"2dbbe099-2da2-4521-b759-1f380fa1a9d9\")) {                    Plotly.newPlot(                        \"2dbbe099-2da2-4521-b759-1f380fa1a9d9\",                        [{\"hovertemplate\":\"type=Iris-setosa<br>col1=%{x}<br>col2=%{y}<br>col3=%{z}<extra></extra>\",\"legendgroup\":\"Iris-setosa\",\"marker\":{\"color\":\"#636efa\",\"symbol\":\"circle\"},\"mode\":\"markers\",\"name\":\"Iris-setosa\",\"scene\":\"scene\",\"showlegend\":true,\"type\":\"scatter3d\",\"x\":[-2.6842071251039505,-2.715390615634132,-2.889819539617918,-2.746437197308735,-2.7285929818313144,-2.2798973610095974,-2.82089068218063,-2.626481993323819,-2.887958565335635,-2.673844686719121,-2.506526789338903,-2.613142718271056,-2.7874339759970974,-3.2252004462749815,-2.6435432169411457,-2.383869323799375,-2.6225262031258083,-2.6483227324791265,-2.199077961430762,-2.587346188917738,-2.310531701313133,-2.5432349073036953,-3.215857694900106,-2.3031285376638824,-2.3561710866838976,-2.5079172268378804,-2.469055997545123,-2.56239094683675,-2.639821268376582,-2.6328479080307585,-2.5884620513033916,-2.4100773371215953,-2.6476366733969003,-2.5971594770759183,-2.673844686719121,-2.866999846932534,-2.6252284646804216,-2.673844686719121,-2.981842664853909,-2.590323025585674,-2.7701389107463243,-2.8522110815663924,-2.9982964428323524,-2.405514101284701,-2.208832954176705,-2.7156651907474547,-2.537573371013506,-2.840321296827009,-2.5426857570770487,-2.70391231486365],\"y\":[0.3266073147643893,-0.16955684755602557,-0.13734560960502698,-0.3111243157519913,0.3339245635684551,0.7477827132251336,-0.08210451102468048,0.17040534896029028,-0.5707980263315909,-0.10669170375273791,0.6519350136725722,0.021520631960258444,-0.22774018887110564,-0.503279909485425,1.1861948994134495,1.344754344559862,0.8180896745965955,0.31913666775088506,0.8792440880917366,0.5204736388059681,0.3978678215888922,0.4400317546598155,0.14161557162558389,0.10552267842998267,-0.031209589068337873,-0.13905633991317345,0.13788731459041814,0.37468456275010653,0.31929006596032233,-0.19007583063362354,-0.19739307943769022,0.4180800082476165,0.8199826325595072,1.1000219280072685,-0.10669170375273791,0.07719309572358762,0.6068000084215869,-0.10669170375273791,-0.48025004885607586,0.2360593372888733,0.2710594197651675,-0.9328653674695435,-0.33430757459077654,0.19591725769606108,0.44269603042100303,-0.24268148289811234,0.5103675454766061,-0.2205763382764761,0.5862810253439886,0.11501085217050609],\"z\":[-0.021511837001963158,-0.20352142500549122,0.024709240998957018,0.037671975285301314,0.09622969977460943,0.17432561901640295,0.2642510851906963,-0.01580151026431498,0.02733540611450737,-0.19153329973564456,-0.0692749958139309,0.10765035324990481,-0.20032778809538915,0.06841362917233045,-0.14450570400963536,0.283730663939777,0.14531598882161786,0.033394254070698126,-0.11452146479835282,0.21957208800082503,-0.23369560709796924,0.21483637027967545,0.29961898151087135,0.04568004127448719,0.12940757589599364,-0.24711633789085968,0.10126307942970225,-0.07235915743602812,-0.13925337377853472,0.046466463645045905,-0.07127507313152591,-0.13838824005004094,0.2305856042541729,0.1635819126236627,-0.19153329973564456,-0.15684235049802409,-0.26116315648170557,-0.19153329973564456,0.0797248073596214,-0.07390123824707642,0.08424157450476327,-0.3409614911071515,0.19900842494724208,0.2707170703688334,0.3034878092682705,-0.09051560595006823,0.1719184044768608,0.09006137653041538,-0.011175267831169006,-0.08269572660682156]},{\"hovertemplate\":\"type=Iris-versicolor<br>col1=%{x}<br>col2=%{y}<br>col3=%{z}<extra></extra>\",\"legendgroup\":\"Iris-versicolor\",\"marker\":{\"color\":\"#EF553B\",\"symbol\":\"circle\"},\"mode\":\"markers\",\"name\":\"Iris-versicolor\",\"scene\":\"scene\",\"showlegend\":true,\"type\":\"scatter3d\",\"x\":[1.2847945878450713,0.9324107529829175,1.464061322779075,0.18096720634769825,1.0871344872070006,0.6404367495231453,1.095223709938478,-0.7514671406482272,1.0432977807062804,-0.010190070727853617,-0.5110861958950911,0.5110980606834772,0.26233575615317983,0.9840445451694306,-0.17486400196569646,0.9275729420327001,0.6595927890562006,0.2345405862598353,0.9423617073988414,0.04324640032870414,1.1162407237538159,0.35678656783046087,1.2964688502855337,0.9205026489090092,0.7140082136428331,0.8996408632837756,1.3310414188547197,1.5573962720707026,0.8124555489980017,-0.3073347556634047,-0.07034288894927208,-0.1918844921031462,0.134994950451373,1.3787369827755827,0.5872748535799106,0.8072054966767163,1.2204289662446801,0.8128677903690691,0.24519516169034566,0.16451342836925528,0.4630309888714239,0.890160445651156,0.22887904996964722,-0.7070812839208609,0.3555330391870631,0.3311269473327227,0.3752382289467655,0.6416902781665429,-0.9084633331234954,0.2978079074069337],\"y\":[0.6854391861329203,0.31919808983364906,0.5041898329724533,-0.8256039435761123,0.07539038928876804,-0.4173234829700251,0.28389121093848063,-1.0011075129743934,0.2289569087770073,-0.7205748667019009,-1.2624919538621393,-0.10228410504596974,-0.5478932980253358,-0.1243604202222774,-0.25181557108016994,0.46823620504311764,-0.351976291060316,-0.33192182936211967,-0.5418222581500133,-0.5814894466123579,-0.08421401387837309,-0.06682382794136563,-0.3275615197949435,-0.1823903633279204,0.15037915314843772,0.32961097958188434,0.24466952060228975,0.26739258481276523,-0.1623315748786328,-0.36508661276615967,-0.7025379317307251,-0.6774905443743563,-0.3117096427033955,-0.4212051382146277,-0.48328426771748184,0.1950539637711119,0.4080353370010179,-0.37067899831890905,-0.26672803566184744,-0.679661469310813,-0.6695265465361218,-0.03381244274676222,-0.4022576201789106,-1.00842476177846,-0.5032184874026616,-0.21118014066262616,-0.2916220248087792,0.01907117649127125,-0.7515687251694848,-0.3470165215985632],\"z\":[-0.40612955307696313,-0.017129909205125287,-0.3382607277179589,-0.1770828563933648,-0.3065444648144318,0.041188769353644517,0.1700225337414999,0.015672194238160155,-0.4148145661487038,0.2834372462541256,-0.2664899538224497,0.13232789047497376,-0.6919415783189646,-0.062157427613538735,0.09365863819195044,-0.3132294005685773,0.328384297069348,-0.2702806708356935,-0.49734854117770444,-0.2329635564825227,0.4598442265727535,-0.22747218032088332,-0.3475132125842501,-0.2316114185526699,-0.32037233282926963,-0.31477148137962563,-0.5212449247379847,-0.16463849085222862,0.0363435763444907,-0.31533719693891993,-0.24175804484226787,-0.3039165434636246,-0.17497330378776516,0.01548049512170846,0.4445837530348709,0.3894587113862025,-0.23656608684982805,-0.6128710500606729,0.18956248472924203,-0.057799238805744134,-0.02405389088980913,-0.009768026368424694,-0.22736270503287923,-0.10206934253841154,0.017889465896507636,0.08380907322251581,0.079073355501366,-0.20417287686374613,-0.007736584506980691,0.012179139158859403]},{\"hovertemplate\":\"type=Iris-virginica<br>col1=%{x}<br>col2=%{y}<br>col3=%{z}<extra></extra>\",\"legendgroup\":\"Iris-virginica\",\"marker\":{\"color\":\"#00cc96\",\"symbol\":\"circle\"},\"mode\":\"markers\",\"name\":\"Iris-virginica\",\"scene\":\"scene\",\"showlegend\":true,\"type\":\"scatter3d\",\"x\":[2.531726980439558,1.4140722251737574,2.616484608284044,1.9708149459064817,2.3497579839509424,3.3968799206781375,0.5193832450849356,2.9320050969913005,2.319672793874054,2.9181342336442517,1.6619349470194869,1.8023404526607332,2.1653788629533977,1.3445942175098242,1.585267299308644,1.9047435782139122,1.9492487818644981,3.488765379656386,3.7946868612099696,1.2983298245678156,2.4281672590208485,1.1980973722749628,3.4992654842989572,1.3876682501815554,2.2758536493056947,2.614193830698334,1.257625182925136,1.2906696477376012,2.122853980508313,2.387564402369028,2.8409609252853834,3.2323428982958755,2.1587383731331347,1.4431026043759745,1.7796401068985694,3.0765216210206607,2.1449868567093042,1.9048629251371318,1.1688534694704034,2.1076537311732686,2.314303394629549,1.9224508848357524,1.4140722251737574,2.5633227123408093,2.4193912198049805,1.9440170488777375,1.525663631313872,1.7640459355269826,1.9016290752882326,1.3896661333194171],\"y\":[-0.011842236640300203,-0.5749250559123044,0.3419352869872951,-0.18112569470491324,-0.04188254965484146,0.547168046230153,-1.1913516890506524,0.35237700618086015,-0.24554817060690962,0.780380629372032,0.2420384010375227,-0.2161546066265358,0.21528028337300759,-0.7764154251768243,-0.5393070538471717,0.1188189909826988,0.04073025942776823,1.1715445442635641,0.2532655709725349,-0.7610139365215071,0.37678197125415275,-0.605578961764594,0.45677346696407484,-0.20403098657015428,0.3333865257566424,0.5583669502788225,-0.17913699742322234,-0.11642525182937209,-0.21085488454948942,0.4625192507262609,0.37274259104902163,1.3705240359763338,-0.21832553156299275,-0.14380128908272571,-0.5014647947060148,0.6857644422460569,0.13890660887731462,0.04804750823183493,-0.1645024998150895,0.37148224917710604,0.18260885079369893,0.40927117617869585,-0.5749250559123044,0.2759745022398383,0.30350393770262907,0.1874152220460143,-0.3750208481918223,0.07851918642935785,0.1158767482479658,-0.28288670917226877],\"z\":[0.7584586515284952,0.2963982243052133,-0.11214137055436671,0.10653914864984612,0.28411068086616736,-0.35187315762730137,0.5466855311249489,-0.4236912783368968,-0.3499221833590494,0.4217389336137672,0.2428152634675931,-0.03769532849396468,0.03314818319913311,0.2828680182243183,0.6305704884623257,0.48013807976572837,0.0427290939294367,0.1293200833617756,-0.5169707159938948,-0.34488704746869964,0.21864907004670517,0.5126407650398148,-0.576910186721648,-0.063511321778648,0.2846781526607178,-0.20842334661879322,0.046977807449227194,0.2316135605683061,0.1535158850912552,-0.45202396144912727,-0.5010315391382013,-0.11844877739515786,0.20842197616391567,-0.15408297110542696,-0.17581118605670318,-0.3364227412082239,0.7341847390548601,0.16047063070600853,0.28246088100237127,0.02743785646148528,0.32286040074238254,0.11549281596071719,0.2963982243052133,0.2912536131268596,0.5043025169513595,0.17930287068112655,-0.12063644074491206,0.13078405342866878,0.7228735608675687,0.3623178316312216]}],                        {\"legend\":{\"title\":{\"text\":\"type\"},\"tracegroupgap\":0},\"margin\":{\"t\":60},\"scene\":{\"domain\":{\"x\":[0.0,1.0],\"y\":[0.0,1.0]},\"xaxis\":{\"title\":{\"text\":\"col1\"}},\"yaxis\":{\"title\":{\"text\":\"col2\"}},\"zaxis\":{\"title\":{\"text\":\"col3\"}}},\"template\":{\"data\":{\"bar\":[{\"error_x\":{\"color\":\"#2a3f5f\"},\"error_y\":{\"color\":\"#2a3f5f\"},\"marker\":{\"line\":{\"color\":\"#E5ECF6\",\"width\":0.5},\"pattern\":{\"fillmode\":\"overlay\",\"size\":10,\"solidity\":0.2}},\"type\":\"bar\"}],\"barpolar\":[{\"marker\":{\"line\":{\"color\":\"#E5ECF6\",\"width\":0.5},\"pattern\":{\"fillmode\":\"overlay\",\"size\":10,\"solidity\":0.2}},\"type\":\"barpolar\"}],\"carpet\":[{\"aaxis\":{\"endlinecolor\":\"#2a3f5f\",\"gridcolor\":\"white\",\"linecolor\":\"white\",\"minorgridcolor\":\"white\",\"startlinecolor\":\"#2a3f5f\"},\"baxis\":{\"endlinecolor\":\"#2a3f5f\",\"gridcolor\":\"white\",\"linecolor\":\"white\",\"minorgridcolor\":\"white\",\"startlinecolor\":\"#2a3f5f\"},\"type\":\"carpet\"}],\"choropleth\":[{\"colorbar\":{\"outlinewidth\":0,\"ticks\":\"\"},\"type\":\"choropleth\"}],\"contour\":[{\"colorbar\":{\"outlinewidth\":0,\"ticks\":\"\"},\"colorscale\":[[0.0,\"#0d0887\"],[0.1111111111111111,\"#46039f\"],[0.2222222222222222,\"#7201a8\"],[0.3333333333333333,\"#9c179e\"],[0.4444444444444444,\"#bd3786\"],[0.5555555555555556,\"#d8576b\"],[0.6666666666666666,\"#ed7953\"],[0.7777777777777778,\"#fb9f3a\"],[0.8888888888888888,\"#fdca26\"],[1.0,\"#f0f921\"]],\"type\":\"contour\"}],\"contourcarpet\":[{\"colorbar\":{\"outlinewidth\":0,\"ticks\":\"\"},\"type\":\"contourcarpet\"}],\"heatmap\":[{\"colorbar\":{\"outlinewidth\":0,\"ticks\":\"\"},\"colorscale\":[[0.0,\"#0d0887\"],[0.1111111111111111,\"#46039f\"],[0.2222222222222222,\"#7201a8\"],[0.3333333333333333,\"#9c179e\"],[0.4444444444444444,\"#bd3786\"],[0.5555555555555556,\"#d8576b\"],[0.6666666666666666,\"#ed7953\"],[0.7777777777777778,\"#fb9f3a\"],[0.8888888888888888,\"#fdca26\"],[1.0,\"#f0f921\"]],\"type\":\"heatmap\"}],\"heatmapgl\":[{\"colorbar\":{\"outlinewidth\":0,\"ticks\":\"\"},\"colorscale\":[[0.0,\"#0d0887\"],[0.1111111111111111,\"#46039f\"],[0.2222222222222222,\"#7201a8\"],[0.3333333333333333,\"#9c179e\"],[0.4444444444444444,\"#bd3786\"],[0.5555555555555556,\"#d8576b\"],[0.6666666666666666,\"#ed7953\"],[0.7777777777777778,\"#fb9f3a\"],[0.8888888888888888,\"#fdca26\"],[1.0,\"#f0f921\"]],\"type\":\"heatmapgl\"}],\"histogram\":[{\"marker\":{\"pattern\":{\"fillmode\":\"overlay\",\"size\":10,\"solidity\":0.2}},\"type\":\"histogram\"}],\"histogram2d\":[{\"colorbar\":{\"outlinewidth\":0,\"ticks\":\"\"},\"colorscale\":[[0.0,\"#0d0887\"],[0.1111111111111111,\"#46039f\"],[0.2222222222222222,\"#7201a8\"],[0.3333333333333333,\"#9c179e\"],[0.4444444444444444,\"#bd3786\"],[0.5555555555555556,\"#d8576b\"],[0.6666666666666666,\"#ed7953\"],[0.7777777777777778,\"#fb9f3a\"],[0.8888888888888888,\"#fdca26\"],[1.0,\"#f0f921\"]],\"type\":\"histogram2d\"}],\"histogram2dcontour\":[{\"colorbar\":{\"outlinewidth\":0,\"ticks\":\"\"},\"colorscale\":[[0.0,\"#0d0887\"],[0.1111111111111111,\"#46039f\"],[0.2222222222222222,\"#7201a8\"],[0.3333333333333333,\"#9c179e\"],[0.4444444444444444,\"#bd3786\"],[0.5555555555555556,\"#d8576b\"],[0.6666666666666666,\"#ed7953\"],[0.7777777777777778,\"#fb9f3a\"],[0.8888888888888888,\"#fdca26\"],[1.0,\"#f0f921\"]],\"type\":\"histogram2dcontour\"}],\"mesh3d\":[{\"colorbar\":{\"outlinewidth\":0,\"ticks\":\"\"},\"type\":\"mesh3d\"}],\"parcoords\":[{\"line\":{\"colorbar\":{\"outlinewidth\":0,\"ticks\":\"\"}},\"type\":\"parcoords\"}],\"pie\":[{\"automargin\":true,\"type\":\"pie\"}],\"scatter\":[{\"marker\":{\"colorbar\":{\"outlinewidth\":0,\"ticks\":\"\"}},\"type\":\"scatter\"}],\"scatter3d\":[{\"line\":{\"colorbar\":{\"outlinewidth\":0,\"ticks\":\"\"}},\"marker\":{\"colorbar\":{\"outlinewidth\":0,\"ticks\":\"\"}},\"type\":\"scatter3d\"}],\"scattercarpet\":[{\"marker\":{\"colorbar\":{\"outlinewidth\":0,\"ticks\":\"\"}},\"type\":\"scattercarpet\"}],\"scattergeo\":[{\"marker\":{\"colorbar\":{\"outlinewidth\":0,\"ticks\":\"\"}},\"type\":\"scattergeo\"}],\"scattergl\":[{\"marker\":{\"colorbar\":{\"outlinewidth\":0,\"ticks\":\"\"}},\"type\":\"scattergl\"}],\"scattermapbox\":[{\"marker\":{\"colorbar\":{\"outlinewidth\":0,\"ticks\":\"\"}},\"type\":\"scattermapbox\"}],\"scatterpolar\":[{\"marker\":{\"colorbar\":{\"outlinewidth\":0,\"ticks\":\"\"}},\"type\":\"scatterpolar\"}],\"scatterpolargl\":[{\"marker\":{\"colorbar\":{\"outlinewidth\":0,\"ticks\":\"\"}},\"type\":\"scatterpolargl\"}],\"scatterternary\":[{\"marker\":{\"colorbar\":{\"outlinewidth\":0,\"ticks\":\"\"}},\"type\":\"scatterternary\"}],\"surface\":[{\"colorbar\":{\"outlinewidth\":0,\"ticks\":\"\"},\"colorscale\":[[0.0,\"#0d0887\"],[0.1111111111111111,\"#46039f\"],[0.2222222222222222,\"#7201a8\"],[0.3333333333333333,\"#9c179e\"],[0.4444444444444444,\"#bd3786\"],[0.5555555555555556,\"#d8576b\"],[0.6666666666666666,\"#ed7953\"],[0.7777777777777778,\"#fb9f3a\"],[0.8888888888888888,\"#fdca26\"],[1.0,\"#f0f921\"]],\"type\":\"surface\"}],\"table\":[{\"cells\":{\"fill\":{\"color\":\"#EBF0F8\"},\"line\":{\"color\":\"white\"}},\"header\":{\"fill\":{\"color\":\"#C8D4E3\"},\"line\":{\"color\":\"white\"}},\"type\":\"table\"}]},\"layout\":{\"annotationdefaults\":{\"arrowcolor\":\"#2a3f5f\",\"arrowhead\":0,\"arrowwidth\":1},\"autotypenumbers\":\"strict\",\"coloraxis\":{\"colorbar\":{\"outlinewidth\":0,\"ticks\":\"\"}},\"colorscale\":{\"diverging\":[[0,\"#8e0152\"],[0.1,\"#c51b7d\"],[0.2,\"#de77ae\"],[0.3,\"#f1b6da\"],[0.4,\"#fde0ef\"],[0.5,\"#f7f7f7\"],[0.6,\"#e6f5d0\"],[0.7,\"#b8e186\"],[0.8,\"#7fbc41\"],[0.9,\"#4d9221\"],[1,\"#276419\"]],\"sequential\":[[0.0,\"#0d0887\"],[0.1111111111111111,\"#46039f\"],[0.2222222222222222,\"#7201a8\"],[0.3333333333333333,\"#9c179e\"],[0.4444444444444444,\"#bd3786\"],[0.5555555555555556,\"#d8576b\"],[0.6666666666666666,\"#ed7953\"],[0.7777777777777778,\"#fb9f3a\"],[0.8888888888888888,\"#fdca26\"],[1.0,\"#f0f921\"]],\"sequentialminus\":[[0.0,\"#0d0887\"],[0.1111111111111111,\"#46039f\"],[0.2222222222222222,\"#7201a8\"],[0.3333333333333333,\"#9c179e\"],[0.4444444444444444,\"#bd3786\"],[0.5555555555555556,\"#d8576b\"],[0.6666666666666666,\"#ed7953\"],[0.7777777777777778,\"#fb9f3a\"],[0.8888888888888888,\"#fdca26\"],[1.0,\"#f0f921\"]]},\"colorway\":[\"#636efa\",\"#EF553B\",\"#00cc96\",\"#ab63fa\",\"#FFA15A\",\"#19d3f3\",\"#FF6692\",\"#B6E880\",\"#FF97FF\",\"#FECB52\"],\"font\":{\"color\":\"#2a3f5f\"},\"geo\":{\"bgcolor\":\"white\",\"lakecolor\":\"white\",\"landcolor\":\"#E5ECF6\",\"showlakes\":true,\"showland\":true,\"subunitcolor\":\"white\"},\"hoverlabel\":{\"align\":\"left\"},\"hovermode\":\"closest\",\"mapbox\":{\"style\":\"light\"},\"paper_bgcolor\":\"white\",\"plot_bgcolor\":\"#E5ECF6\",\"polar\":{\"angularaxis\":{\"gridcolor\":\"white\",\"linecolor\":\"white\",\"ticks\":\"\"},\"bgcolor\":\"#E5ECF6\",\"radialaxis\":{\"gridcolor\":\"white\",\"linecolor\":\"white\",\"ticks\":\"\"}},\"scene\":{\"xaxis\":{\"backgroundcolor\":\"#E5ECF6\",\"gridcolor\":\"white\",\"gridwidth\":2,\"linecolor\":\"white\",\"showbackground\":true,\"ticks\":\"\",\"zerolinecolor\":\"white\"},\"yaxis\":{\"backgroundcolor\":\"#E5ECF6\",\"gridcolor\":\"white\",\"gridwidth\":2,\"linecolor\":\"white\",\"showbackground\":true,\"ticks\":\"\",\"zerolinecolor\":\"white\"},\"zaxis\":{\"backgroundcolor\":\"#E5ECF6\",\"gridcolor\":\"white\",\"gridwidth\":2,\"linecolor\":\"white\",\"showbackground\":true,\"ticks\":\"\",\"zerolinecolor\":\"white\"}},\"shapedefaults\":{\"line\":{\"color\":\"#2a3f5f\"}},\"ternary\":{\"aaxis\":{\"gridcolor\":\"white\",\"linecolor\":\"white\",\"ticks\":\"\"},\"baxis\":{\"gridcolor\":\"white\",\"linecolor\":\"white\",\"ticks\":\"\"},\"bgcolor\":\"#E5ECF6\",\"caxis\":{\"gridcolor\":\"white\",\"linecolor\":\"white\",\"ticks\":\"\"}},\"title\":{\"x\":0.05},\"xaxis\":{\"automargin\":true,\"gridcolor\":\"white\",\"linecolor\":\"white\",\"ticks\":\"\",\"title\":{\"standoff\":15},\"zerolinecolor\":\"white\",\"zerolinewidth\":2},\"yaxis\":{\"automargin\":true,\"gridcolor\":\"white\",\"linecolor\":\"white\",\"ticks\":\"\",\"title\":{\"standoff\":15},\"zerolinecolor\":\"white\",\"zerolinewidth\":2}}}},                        {\"responsive\": true}                    ).then(function(){\n                            \nvar gd = document.getElementById('2dbbe099-2da2-4521-b759-1f380fa1a9d9');\nvar x = new MutationObserver(function (mutations, observer) {{\n        var display = window.getComputedStyle(gd).display;\n        if (!display || display === 'none') {{\n            console.log([gd, 'removed!']);\n            Plotly.purge(gd);\n            observer.disconnect();\n        }}\n}});\n\n// Listen for the removal of the full notebook cells\nvar notebookContainer = gd.closest('#notebook-container');\nif (notebookContainer) {{\n    x.observe(notebookContainer, {childList: true});\n}}\n\n// Listen for the clearing of the current output cell\nvar outputEl = gd.closest('.output');\nif (outputEl) {{\n    x.observe(outputEl, {childList: true});\n}}\n\n                        })                };                });            </script>        </div>"
     },
     "metadata": {},
     "output_type": "display_data"
    }
   ],
   "source": [
    "import plotly.express as px\n",
    "fig = px.scatter_3d(converted_3d, x='col1', y='col2', z='col3', color='type')\n",
    "fig.show()"
   ],
   "metadata": {
    "collapsed": false,
    "pycharm": {
     "name": "#%%\n"
    }
   }
  },
  {
   "cell_type": "code",
   "execution_count": null,
   "outputs": [],
   "source": [],
   "metadata": {
    "collapsed": false,
    "pycharm": {
     "name": "#%%\n"
    }
   }
  }
 ],
 "metadata": {
  "kernelspec": {
   "display_name": "Python 3",
   "language": "python",
   "name": "python3"
  },
  "language_info": {
   "codemirror_mode": {
    "name": "ipython",
    "version": 2
   },
   "file_extension": ".py",
   "mimetype": "text/x-python",
   "name": "python",
   "nbconvert_exporter": "python",
   "pygments_lexer": "ipython2",
   "version": "2.7.6"
  }
 },
 "nbformat": 4,
 "nbformat_minor": 0
}